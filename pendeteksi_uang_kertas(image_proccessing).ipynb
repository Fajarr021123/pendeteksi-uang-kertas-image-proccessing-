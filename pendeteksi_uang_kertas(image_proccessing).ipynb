{
  "nbformat": 4,
  "nbformat_minor": 0,
  "metadata": {
    "colab": {
      "provenance": []
    },
    "kernelspec": {
      "name": "python3",
      "display_name": "Python 3"
    },
    "language_info": {
      "name": "python"
    }
  },
  "cells": [
    {
      "cell_type": "code",
      "execution_count": null,
      "metadata": {
        "id": "0J47SrYekQcs"
      },
      "outputs": [],
      "source": [
        "import cv2\n",
        "import numpy as np\n",
        "from matplotlib import pyplot as plt\n",
        "from sklearn.neighbors import KNeighborsClassifier"
      ]
    },
    {
      "cell_type": "code",
      "source": [
        "%matplotlib notebook\n",
        "import numpy as np\n",
        "import matplotlib.pyplot as plt\n",
        "import pandas as pd\n",
        "from sklearn.model_selection import train_test_split\n",
        "from sklearn.neighbors import KNeighborsClassifier\n",
        "from sklearn import neighbors\n",
        "from matplotlib.colors import ListedColormap, BoundaryNorm\n",
        "import matplotlib.patches as mpatches\n"
      ],
      "metadata": {
        "id": "sf3TCjc_qPXP"
      },
      "execution_count": null,
      "outputs": []
    },
    {
      "cell_type": "markdown",
      "source": [
        "!00 ribu"
      ],
      "metadata": {
        "id": "SvUEZIt3CN-X"
      }
    },
    {
      "cell_type": "code",
      "source": [
        "img = cv2.imread('100.jpeg')\n",
        "\n",
        "#split gambar berfungsi untuk memisahkan chanel warna gambar\n",
        "B, G, R = cv2.split(img)\n",
        "\n",
        "# (152, 203, 3) = (tinggi, lebar, channel gambar)\n",
        "pix=img.shape\n",
        "print(pix) \n",
        "tot_pixel = pix[0] * pix[1]\n",
        "\n",
        "#memisahkan panjang pixel tiap warna\n",
        "channel_blue = pix[0]\n",
        "channel_green = pix[0]\n",
        "channel_red = pix[0]\n",
        "\n",
        "hist_B = np.zeros((256))  # buat histogram untuk B\n",
        "hist_G = np.zeros((256))  # buat histogram untuk G\n",
        "hist_R = np.zeros((256))  # buat histogram untuk R\n",
        "\n",
        "for i in range(pix[0]):\n",
        "  for j in range(pix[1]):\n",
        "    \n",
        "        pixel0 = B[i][j]\n",
        "        hist_B[pixel0] += 1\n",
        "\n",
        "        pixel1 = G[i][j]\n",
        "        hist_G[pixel1] += 1\n",
        "\n",
        "        pixel2 = R[i][j]\n",
        "        hist_R[pixel2] += 1\n",
        "\n",
        "        if pixel0 > pixel1 and pixel0 > pixel2:\n",
        "            channel_blue += 1\n",
        "        elif pixel1 > pixel0 and pixel1 > pixel2:\n",
        "            channel_green += 1\n",
        "\n",
        "        else:\n",
        "            channel_red += 1\n",
        "\n",
        "plt.bar(range(len(hist_R)), hist_R, color=[1, 0, 0])\n",
        "plt.bar(range(len(hist_G)), hist_G, color=[0, 1, 0])\n",
        "plt.bar(range(len(hist_B)), hist_B, color=[0, 0, 1])\n",
        "\n",
        "import pandas as pd\n",
        "print(\"Total Pixel Biru : \", channel_blue)\n",
        "print(\"Total Pixel Hijau : \", channel_green)\n",
        "print(\"Total Pixel Merah : \", channel_red)\n",
        "\n",
        "warna_100_1=[\"1\",'Rp.100.000,00',channel_red,channel_green,channel_blue,\"1\"]\n",
        "red=warna_100_1[0]\n",
        "green=warna_100_1[1]\n",
        "blue=warna_100_1[2]\n",
        "print(warna_100_1)\n",
        "#######################################################################################\n",
        "img2 = cv2.imread('100_1.jpg')\n",
        "\n",
        "#split gambar berfungsi untuk memisahkan chanel warna gambar\n",
        "B, G, R = cv2.split(img2)\n",
        "\n",
        "# (152, 203, 3) = (tinggi, lebar, channel gambar)\n",
        "pix=img.shape\n",
        "print(pix) \n",
        "tot_pixel = pix[0] * pix[1]\n",
        "\n",
        "#memisahkan panjang pixel tiap warna\n",
        "channel_blue = pix[0]\n",
        "channel_green = pix[0]\n",
        "channel_red = pix[0]\n",
        "\n",
        "hist_B = np.zeros((256))  # buat histogram untuk B\n",
        "hist_G = np.zeros((256))  # buat histogram untuk G\n",
        "hist_R = np.zeros((256))  # buat histogram untuk R\n",
        "\n",
        "for i in range(pix[0]):\n",
        "  for j in range(pix[1]):\n",
        "    \n",
        "        pixel0 = B[i][j]\n",
        "        hist_B[pixel0] += 1\n",
        "\n",
        "        pixel1 = G[i][j]\n",
        "        hist_G[pixel1] += 1\n",
        "\n",
        "        pixel2 = R[i][j]\n",
        "        hist_R[pixel2] += 1\n",
        "\n",
        "        if pixel0 > pixel1 and pixel0 > pixel2:\n",
        "            channel_blue += 1\n",
        "        elif pixel1 > pixel0 and pixel1 > pixel2:\n",
        "            channel_green += 1\n",
        "\n",
        "        else:\n",
        "            channel_red += 1\n",
        "\n",
        "plt.bar(range(len(hist_R)), hist_R, color=[1, 0, 0])\n",
        "plt.bar(range(len(hist_G)), hist_G, color=[0, 1, 0])\n",
        "plt.bar(range(len(hist_B)), hist_B, color=[0, 0, 1])\n",
        "\n",
        "import pandas as pd\n",
        "print(\"Total Pixel Biru : \", channel_blue)\n",
        "print(\"Total Pixel Hijau : \", channel_green)\n",
        "print(\"Total Pixel Merah : \", channel_red)\n",
        "\n",
        "warna_100_2=[\"1\",\"Rp.100.000,00\",channel_red,channel_green,channel_blue,\"1\"]\n",
        "red=warna_100_2[0]\n",
        "green=warna_100_2[1]\n",
        "blue=warna_100_2[2]\n",
        "print(warna_100_2)\n",
        "#####################################################################################3\n",
        "img3 = cv2.imread('100_2.jpg')\n",
        "\n",
        "#split gambar berfungsi untuk memisahkan chanel warna gambar\n",
        "B, G, R = cv2.split(img3)\n",
        "# (152, 203, 3) = (tinggi, lebar, channel gambar)\n",
        "pix=img.shape\n",
        "print(pix) \n",
        "tot_pixel = pix[0] * pix[1]\n",
        "\n",
        "#memisahkan panjang pixel tiap warna\n",
        "channel_blue = pix[0]\n",
        "channel_green = pix[0]\n",
        "channel_red = pix[0]\n",
        "\n",
        "hist_B = np.zeros((256))  # buat histogram untuk B\n",
        "hist_G = np.zeros((256))  # buat histogram untuk G\n",
        "hist_R = np.zeros((256))  # buat histogram untuk R\n",
        "\n",
        "for i in range(pix[0]):\n",
        "  for j in range(pix[1]):\n",
        "    \n",
        "        pixel0 = B[i][j]\n",
        "        hist_B[pixel0] += 1\n",
        "\n",
        "        pixel1 = G[i][j]\n",
        "        hist_G[pixel1] += 1\n",
        "\n",
        "        pixel2 = R[i][j]\n",
        "        hist_R[pixel2] += 1\n",
        "\n",
        "        if pixel0 > pixel1 and pixel0 > pixel2:\n",
        "            channel_blue += 1\n",
        "        elif pixel1 > pixel0 and pixel1 > pixel2:\n",
        "            channel_green += 1\n",
        "\n",
        "        else:\n",
        "            channel_red += 1\n",
        "\n",
        "plt.bar(range(len(hist_R)), hist_R, color=[1, 0, 0])\n",
        "plt.bar(range(len(hist_G)), hist_G, color=[0, 1, 0])\n",
        "plt.bar(range(len(hist_B)), hist_B, color=[0, 0, 1])\n",
        "\n",
        "import pandas as pd\n",
        "print(\"Total Pixel Biru : \", channel_blue)\n",
        "print(\"Total Pixel Hijau : \", channel_green)\n",
        "print(\"Total Pixel Merah : \", channel_red)\n",
        "\n",
        "warna_100_3=[\"1\",\"Rp.100.000,00\",channel_red,channel_green,channel_blue,\"0\"]\n",
        "red=warna_100_3[0]\n",
        "green=warna_100_3[1]\n",
        "blue=warna_100_3[2]\n",
        "print(warna_100_3)\n",
        "\n",
        "#####################50 ribu############################################################################\n",
        "img = cv2.imread('50.jpeg')\n",
        "\n",
        "#split gambar berfungsi untuk memisahkan chanel warna gambar\n",
        "B, G, R = cv2.split(img)\n",
        "\n",
        "# (152, 203, 3) = (tinggi, lebar, channel gambar)\n",
        "pix=img.shape\n",
        "print(pix) \n",
        "tot_pixel = pix[0] * pix[1]\n",
        "\n",
        "#memisahkan panjang pixel tiap warna\n",
        "channel_blue = pix[0]\n",
        "channel_green = pix[0]\n",
        "channel_red = pix[0]\n",
        "\n",
        "hist_B = np.zeros((256))  # buat histogram untuk B\n",
        "hist_G = np.zeros((256))  # buat histogram untuk G\n",
        "hist_R = np.zeros((256))  # buat histogram untuk R\n",
        "\n",
        "for i in range(pix[0]):\n",
        "  for j in range(pix[1]):\n",
        "    \n",
        "        pixel0 = B[i][j]\n",
        "        hist_B[pixel0] += 1\n",
        "\n",
        "        pixel1 = G[i][j]\n",
        "        hist_G[pixel1] += 1\n",
        "\n",
        "        pixel2 = R[i][j]\n",
        "        hist_R[pixel2] += 1\n",
        "\n",
        "        if pixel0 > pixel1 and pixel0 > pixel2:\n",
        "            channel_blue += 1\n",
        "        elif pixel1 > pixel0 and pixel1 > pixel2:\n",
        "            channel_green += 1\n",
        "\n",
        "        else:\n",
        "            channel_red += 1\n",
        "\n",
        "plt.bar(range(len(hist_R)), hist_R, color=[1, 0, 0])\n",
        "plt.bar(range(len(hist_G)), hist_G, color=[0, 1, 0])\n",
        "plt.bar(range(len(hist_B)), hist_B, color=[0, 0, 1])\n",
        "\n",
        "import pandas as pd\n",
        "print(\"Total Pixel Biru : \", channel_blue)\n",
        "print(\"Total Pixel Hijau : \", channel_green)\n",
        "print(\"Total Pixel Merah : \", channel_red)\n",
        "\n",
        "warna_50_1=[\"2\",'Rp.50.000,00',channel_red,channel_green,channel_blue,\"1\"]\n",
        "red=warna_50_1[0]\n",
        "green=warna_50_1[1]\n",
        "blue=warna_50_1[2]\n",
        "print(warna_50_1)\n",
        "#######################################################################################\n",
        "img2 = cv2.imread('50new.jpg')\n",
        "\n",
        "#split gambar berfungsi untuk memisahkan chanel warna gambar\n",
        "B, G, R = cv2.split(img2)\n",
        "\n",
        "# (152, 203, 3) = (tinggi, lebar, channel gambar)\n",
        "pix=img.shape\n",
        "print(pix) \n",
        "tot_pixel = pix[0] * pix[1]\n",
        "\n",
        "#memisahkan panjang pixel tiap warna\n",
        "channel_blue = pix[0]\n",
        "channel_green = pix[0]\n",
        "channel_red = pix[0]\n",
        "\n",
        "hist_B = np.zeros((256))  # buat histogram untuk B\n",
        "hist_G = np.zeros((256))  # buat histogram untuk G\n",
        "hist_R = np.zeros((256))  # buat histogram untuk R\n",
        "\n",
        "for i in range(pix[0]):\n",
        "  for j in range(pix[1]):\n",
        "    \n",
        "        pixel0 = B[i][j]\n",
        "        hist_B[pixel0] += 1\n",
        "\n",
        "        pixel1 = G[i][j]\n",
        "        hist_G[pixel1] += 1\n",
        "\n",
        "        pixel2 = R[i][j]\n",
        "        hist_R[pixel2] += 1\n",
        "\n",
        "        if pixel0 > pixel1 and pixel0 > pixel2:\n",
        "            channel_blue += 1\n",
        "        elif pixel1 > pixel0 and pixel1 > pixel2:\n",
        "            channel_green += 1\n",
        "\n",
        "        else:\n",
        "            channel_red += 1\n",
        "\n",
        "plt.bar(range(len(hist_R)), hist_R, color=[1, 0, 0])\n",
        "plt.bar(range(len(hist_G)), hist_G, color=[0, 1, 0])\n",
        "plt.bar(range(len(hist_B)), hist_B, color=[0, 0, 1])\n",
        "\n",
        "import pandas as pd\n",
        "print(\"Total Pixel Biru : \", channel_blue)\n",
        "print(\"Total Pixel Hijau : \", channel_green)\n",
        "print(\"Total Pixel Merah : \", channel_red)\n",
        "\n",
        "warna_50_2=[\"2\",\"Rp.50.000,00\",channel_red,channel_green,channel_blue,\"1\"]\n",
        "red=warna_50_2[0]\n",
        "green=warna_50_2[1]\n",
        "blue=warna_50_2[2]\n",
        "print(warna_50_2)\n",
        "#####################################################################################3\n",
        "img3 = cv2.imread('50_2.jpg')\n",
        "\n",
        "#split gambar berfungsi untuk memisahkan chanel warna gambar\n",
        "B, G, R = cv2.split(img3)\n",
        "# (152, 203, 3) = (tinggi, lebar, channel gambar)\n",
        "pix=img.shape\n",
        "print(pix) \n",
        "tot_pixel = pix[0] * pix[1]\n",
        "\n",
        "#memisahkan panjang pixel tiap warna\n",
        "channel_blue = pix[0]\n",
        "channel_green = pix[0]\n",
        "channel_red = pix[0]\n",
        "\n",
        "hist_B = np.zeros((256))  # buat histogram untuk B\n",
        "hist_G = np.zeros((256))  # buat histogram untuk G\n",
        "hist_R = np.zeros((256))  # buat histogram untuk R\n",
        "\n",
        "for i in range(pix[0]):\n",
        "  for j in range(pix[1]):\n",
        "    \n",
        "        pixel0 = B[i][j]\n",
        "        hist_B[pixel0] += 1\n",
        "\n",
        "        pixel1 = G[i][j]\n",
        "        hist_G[pixel1] += 1\n",
        "\n",
        "        pixel2 = R[i][j]\n",
        "        hist_R[pixel2] += 1\n",
        "\n",
        "        if pixel0 > pixel1 and pixel0 > pixel2:\n",
        "            channel_blue += 1\n",
        "        elif pixel1 > pixel0 and pixel1 > pixel2:\n",
        "            channel_green += 1\n",
        "\n",
        "        else:\n",
        "            channel_red += 1\n",
        "\n",
        "plt.bar(range(len(hist_R)), hist_R, color=[1, 0, 0])\n",
        "plt.bar(range(len(hist_G)), hist_G, color=[0, 1, 0])\n",
        "plt.bar(range(len(hist_B)), hist_B, color=[0, 0, 1])\n",
        "\n",
        "import pandas as pd\n",
        "print(\"Total Pixel Biru : \", channel_blue)\n",
        "print(\"Total Pixel Hijau : \", channel_green)\n",
        "print(\"Total Pixel Merah : \", channel_red)\n",
        "\n",
        "warna_50_3=[\"2\",\"Rp.50.000,00\",channel_red,channel_green,channel_blue,\"0\"]\n",
        "red=warna_50_3[0]\n",
        "green=warna_50_3[1]\n",
        "blue=warna_50_3[2]\n",
        "print(warna_50_3)\n",
        "\n",
        "###########################20 ribu#######################################################################################\n",
        "img = cv2.imread('20new.jpg')\n",
        "\n",
        "#split gambar berfungsi untuk memisahkan chanel warna gambar\n",
        "B, G, R = cv2.split(img)\n",
        "\n",
        "# (152, 203, 3) = (tinggi, lebar, channel gambar)\n",
        "pix=img.shape\n",
        "print(pix) \n",
        "tot_pixel = pix[0] * pix[1]\n",
        "\n",
        "#memisahkan panjang pixel tiap warna\n",
        "channel_blue = pix[0]\n",
        "channel_green = pix[0]\n",
        "channel_red = pix[0]\n",
        "\n",
        "hist_B = np.zeros((256))  # buat histogram untuk B\n",
        "hist_G = np.zeros((256))  # buat histogram untuk G\n",
        "hist_R = np.zeros((256))  # buat histogram untuk R\n",
        "\n",
        "for i in range(pix[0]):\n",
        "  for j in range(pix[1]):\n",
        "    \n",
        "        pixel0 = B[i][j]\n",
        "        hist_B[pixel0] += 1\n",
        "\n",
        "        pixel1 = G[i][j]\n",
        "        hist_G[pixel1] += 1\n",
        "\n",
        "        pixel2 = R[i][j]\n",
        "        hist_R[pixel2] += 1\n",
        "\n",
        "        if pixel0 > pixel1 and pixel0 > pixel2:\n",
        "            channel_blue += 1\n",
        "        elif pixel1 > pixel0 and pixel1 > pixel2:\n",
        "            channel_green += 1\n",
        "\n",
        "        else:\n",
        "            channel_red += 1\n",
        "\n",
        "plt.bar(range(len(hist_R)), hist_R, color=[1, 0, 0])\n",
        "plt.bar(range(len(hist_G)), hist_G, color=[0, 1, 0])\n",
        "plt.bar(range(len(hist_B)), hist_B, color=[0, 0, 1])\n",
        "\n",
        "import pandas as pd\n",
        "print(\"Total Pixel Biru : \", channel_blue)\n",
        "print(\"Total Pixel Hijau : \", channel_green)\n",
        "\n",
        "warna_20_1=[\"3\",'Rp.20.000,00',channel_red,channel_green,channel_blue,\"1\"]\n",
        "red=warna_20_1[0]\n",
        "green=warna_20_1[1]\n",
        "blue=warna_20_1[2]\n",
        "print(warna_20_1)\n",
        "#######################################################################################\n",
        "img2 = cv2.imread('20_1.jpg')\n",
        "\n",
        "#split gambar berfungsi untuk memisahkan chanel warna gambar\n",
        "B, G, R = cv2.split(img2)\n",
        "\n",
        "# (152, 203, 3) = (tinggi, lebar, channel gambar)\n",
        "pix=img.shape\n",
        "print(pix) \n",
        "tot_pixel = pix[0] * pix[1]\n",
        "\n",
        "#memisahkan panjang pixel tiap warna\n",
        "channel_blue = pix[0]\n",
        "channel_green = pix[0]\n",
        "channel_red = pix[0]\n",
        "\n",
        "hist_B = np.zeros((256))  # buat histogram untuk B\n",
        "hist_G = np.zeros((256))  # buat histogram untuk G\n",
        "hist_R = np.zeros((256))  # buat histogram untuk R\n",
        "\n",
        "for i in range(pix[0]):\n",
        "  for j in range(pix[1]):\n",
        "    \n",
        "        pixel0 = B[i][j]\n",
        "        hist_B[pixel0] += 1\n",
        "\n",
        "        pixel1 = G[i][j]\n",
        "        hist_G[pixel1] += 1\n",
        "\n",
        "        pixel2 = R[i][j]\n",
        "        hist_R[pixel2] += 1\n",
        "\n",
        "        if pixel0 > pixel1 and pixel0 > pixel2:\n",
        "            channel_blue += 1\n",
        "        elif pixel1 > pixel0 and pixel1 > pixel2:\n",
        "            channel_green += 1\n",
        "\n",
        "        else:\n",
        "            channel_red += 1\n",
        "\n",
        "plt.bar(range(len(hist_R)), hist_R, color=[1, 0, 0])\n",
        "plt.bar(range(len(hist_G)), hist_G, color=[0, 1, 0])\n",
        "plt.bar(range(len(hist_B)), hist_B, color=[0, 0, 1])\n",
        "\n",
        "import pandas as pd\n",
        "print(\"Total Pixel Biru : \", channel_blue)\n",
        "print(\"Total Pixel Hijau : \", channel_green)\n",
        "print(\"Total Pixel Merah : \", channel_red)\n",
        "print(\"Total Pixel Merah : \", channel_red)\n",
        "\n",
        "warna_20_2=[\"3\",\"Rp.20.000,00\",channel_red,channel_green,channel_blue,\"1\"]\n",
        "red=warna_20_2[0]\n",
        "green=warna_20_2[1]\n",
        "blue=warna_20_2[2]\n",
        "print(warna_20_2)\n",
        "#####################################################################################3\n",
        "img3 = cv2.imread('20_2.jpg')\n",
        "\n",
        "#split gambar berfungsi untuk memisahkan chanel warna gambar\n",
        "B, G, R = cv2.split(img3)\n",
        "# (152, 203, 3) = (tinggi, lebar, channel gambar)\n",
        "pix=img.shape\n",
        "print(pix) \n",
        "tot_pixel = pix[0] * pix[1]\n",
        "\n",
        "#memisahkan panjang pixel tiap warna\n",
        "channel_blue = pix[0]\n",
        "channel_green = pix[0]\n",
        "channel_red = pix[0]\n",
        "\n",
        "hist_B = np.zeros((256))  # buat histogram untuk B\n",
        "hist_G = np.zeros((256))  # buat histogram untuk G\n",
        "hist_R = np.zeros((256))  # buat histogram untuk R\n",
        "\n",
        "for i in range(pix[0]):\n",
        "  for j in range(pix[1]):\n",
        "    \n",
        "        pixel0 = B[i][j]\n",
        "        hist_B[pixel0] += 1\n",
        "\n",
        "        pixel1 = G[i][j]\n",
        "        hist_G[pixel1] += 1\n",
        "\n",
        "        pixel2 = R[i][j]\n",
        "        hist_R[pixel2] += 1\n",
        "\n",
        "        if pixel0 > pixel1 and pixel0 > pixel2:\n",
        "            channel_blue += 1\n",
        "        elif pixel1 > pixel0 and pixel1 > pixel2:\n",
        "            channel_green += 1\n",
        "\n",
        "        else:\n",
        "            channel_red += 1\n",
        "\n",
        "plt.bar(range(len(hist_R)), hist_R, color=[1, 0, 0])\n",
        "plt.bar(range(len(hist_G)), hist_G, color=[0, 1, 0])\n",
        "plt.bar(range(len(hist_B)), hist_B, color=[0, 0, 1])\n",
        "\n",
        "import pandas as pd\n",
        "print(\"Total Pixel Biru : \", channel_blue)\n",
        "print(\"Total Pixel Hijau : \", channel_green)\n",
        "print(\"Total Pixel Merah : \", channel_red)\n",
        "\n",
        "warna_20_3=[\"3\",\"Rp.20.000,00\",channel_red,channel_green,channel_blue,\"0\"]\n",
        "red=warna_20_3[0]\n",
        "green=warna_20_3[1]\n",
        "blue=warna_20_3[2]\n",
        "print(warna_20_3)\n",
        "import pandas as pd\n",
        "import numpy as np\n",
        "cr=[warna_100_1,warna_100_2,warna_100_3,warna_50_1,warna_50_2,warna_50_3,warna_20_1,warna_20_2,warna_20_3]\n",
        "arr = np.asarray(cr)\n",
        "df=pd.DataFrame(arr).to_csv('uang.csv', index_label = \"Index\", header  = ['lable','nama','red','gren','blue','yes/no'])   \n",
        "arr.data.shape\n",
        "print(arr)\n"
      ],
      "metadata": {
        "colab": {
          "base_uri": "https://localhost:8080/",
          "height": 954
        },
        "id": "2q2jfgfTJVdZ",
        "outputId": "e8776e88-b3f0-4cd1-9c51-05d52c3a9abd"
      },
      "execution_count": null,
      "outputs": [
        {
          "output_type": "stream",
          "name": "stdout",
          "text": [
            "(254, 598, 3)\n",
            "Total Pixel Biru :  2934\n",
            "Total Pixel Hijau :  2979\n",
            "Total Pixel Merah :  146741\n",
            "['1', 'Rp.100.000,00', 146741, 2979, 2934, '1']\n",
            "(254, 598, 3)\n",
            "Total Pixel Biru :  2137\n",
            "Total Pixel Hijau :  306\n",
            "Total Pixel Merah :  150211\n",
            "['1', 'Rp.100.000,00', 150211, 306, 2137, '1']\n",
            "(254, 598, 3)\n",
            "Total Pixel Biru :  254\n",
            "Total Pixel Hijau :  254\n",
            "Total Pixel Merah :  152146\n",
            "['1', 'Rp.100.000,00', 152146, 254, 254, '0']\n",
            "(264, 620, 3)\n",
            "Total Pixel Biru :  156634\n",
            "Total Pixel Hijau :  4081\n",
            "Total Pixel Merah :  3757\n",
            "['2', 'Rp.50.000,00', 3757, 4081, 156634, '1']\n",
            "(264, 620, 3)\n",
            "Total Pixel Biru :  156634\n",
            "Total Pixel Hijau :  4081\n",
            "Total Pixel Merah :  3757\n",
            "['2', 'Rp.50.000,00', 3757, 4081, 156634, '1']\n",
            "(264, 620, 3)\n",
            "Total Pixel Biru :  163523\n",
            "Total Pixel Hijau :  318\n",
            "Total Pixel Merah :  631\n",
            "['2', 'Rp.50.000,00', 631, 318, 163523, '0']\n",
            "(275, 640, 3)\n",
            "Total Pixel Biru :  30857\n",
            "Total Pixel Hijau :  130910\n",
            "['3', 'Rp.20.000,00', 15058, 130910, 30857, '1']\n",
            "(275, 640, 3)\n",
            "Total Pixel Biru :  762\n",
            "Total Pixel Hijau :  139017\n",
            "Total Pixel Merah :  37046\n",
            "Total Pixel Merah :  37046\n",
            "['3', 'Rp.20.000,00', 37046, 139017, 762, '1']\n",
            "(275, 640, 3)\n",
            "Total Pixel Biru :  275\n",
            "Total Pixel Hijau :  176207\n",
            "Total Pixel Merah :  343\n",
            "['3', 'Rp.20.000,00', 343, 176207, 275, '0']\n",
            "[['1' 'Rp.100.000,00' '146741' '2979' '2934' '1']\n",
            " ['1' 'Rp.100.000,00' '150211' '306' '2137' '1']\n",
            " ['1' 'Rp.100.000,00' '152146' '254' '254' '0']\n",
            " ['2' 'Rp.50.000,00' '3757' '4081' '156634' '1']\n",
            " ['2' 'Rp.50.000,00' '3757' '4081' '156634' '1']\n",
            " ['2' 'Rp.50.000,00' '631' '318' '163523' '0']\n",
            " ['3' 'Rp.20.000,00' '15058' '130910' '30857' '1']\n",
            " ['3' 'Rp.20.000,00' '37046' '139017' '762' '1']\n",
            " ['3' 'Rp.20.000,00' '343' '176207' '275' '0']]\n"
          ]
        }
      ]
    },
    {
      "cell_type": "code",
      "source": [
        "uang=pd.read_csv('uang.csv')\n",
        "uang"
      ],
      "metadata": {
        "colab": {
          "base_uri": "https://localhost:8080/",
          "height": 332
        },
        "id": "C_IREjv3v6Pz",
        "outputId": "8f597b8c-3509-4fcc-e0d0-f62589c04e4a"
      },
      "execution_count": null,
      "outputs": [
        {
          "output_type": "execute_result",
          "data": {
            "text/plain": [
              "   Index  lable           nama     red    gren    blue  yes/no\n",
              "0      0      1  Rp.100.000,00  146741    2979    2934       1\n",
              "1      1      1  Rp.100.000,00  150211     306    2137       1\n",
              "2      2      1  Rp.100.000,00  152146     254     254       0\n",
              "3      3      2   Rp.50.000,00    3757    4081  156634       1\n",
              "4      4      2   Rp.50.000,00    3757    4081  156634       1\n",
              "5      5      2   Rp.50.000,00     631     318  163523       0\n",
              "6      6      3   Rp.20.000,00   15058  130910   30857       1\n",
              "7      7      3   Rp.20.000,00   37046  139017     762       1\n",
              "8      8      3   Rp.20.000,00     343  176207     275       0"
            ],
            "text/html": [
              "\n",
              "  <div id=\"df-188f6d0d-373e-4faa-ba53-3f608e745c01\">\n",
              "    <div class=\"colab-df-container\">\n",
              "      <div>\n",
              "<style scoped>\n",
              "    .dataframe tbody tr th:only-of-type {\n",
              "        vertical-align: middle;\n",
              "    }\n",
              "\n",
              "    .dataframe tbody tr th {\n",
              "        vertical-align: top;\n",
              "    }\n",
              "\n",
              "    .dataframe thead th {\n",
              "        text-align: right;\n",
              "    }\n",
              "</style>\n",
              "<table border=\"1\" class=\"dataframe\">\n",
              "  <thead>\n",
              "    <tr style=\"text-align: right;\">\n",
              "      <th></th>\n",
              "      <th>Index</th>\n",
              "      <th>lable</th>\n",
              "      <th>nama</th>\n",
              "      <th>red</th>\n",
              "      <th>gren</th>\n",
              "      <th>blue</th>\n",
              "      <th>yes/no</th>\n",
              "    </tr>\n",
              "  </thead>\n",
              "  <tbody>\n",
              "    <tr>\n",
              "      <th>0</th>\n",
              "      <td>0</td>\n",
              "      <td>1</td>\n",
              "      <td>Rp.100.000,00</td>\n",
              "      <td>146741</td>\n",
              "      <td>2979</td>\n",
              "      <td>2934</td>\n",
              "      <td>1</td>\n",
              "    </tr>\n",
              "    <tr>\n",
              "      <th>1</th>\n",
              "      <td>1</td>\n",
              "      <td>1</td>\n",
              "      <td>Rp.100.000,00</td>\n",
              "      <td>150211</td>\n",
              "      <td>306</td>\n",
              "      <td>2137</td>\n",
              "      <td>1</td>\n",
              "    </tr>\n",
              "    <tr>\n",
              "      <th>2</th>\n",
              "      <td>2</td>\n",
              "      <td>1</td>\n",
              "      <td>Rp.100.000,00</td>\n",
              "      <td>152146</td>\n",
              "      <td>254</td>\n",
              "      <td>254</td>\n",
              "      <td>0</td>\n",
              "    </tr>\n",
              "    <tr>\n",
              "      <th>3</th>\n",
              "      <td>3</td>\n",
              "      <td>2</td>\n",
              "      <td>Rp.50.000,00</td>\n",
              "      <td>3757</td>\n",
              "      <td>4081</td>\n",
              "      <td>156634</td>\n",
              "      <td>1</td>\n",
              "    </tr>\n",
              "    <tr>\n",
              "      <th>4</th>\n",
              "      <td>4</td>\n",
              "      <td>2</td>\n",
              "      <td>Rp.50.000,00</td>\n",
              "      <td>3757</td>\n",
              "      <td>4081</td>\n",
              "      <td>156634</td>\n",
              "      <td>1</td>\n",
              "    </tr>\n",
              "    <tr>\n",
              "      <th>5</th>\n",
              "      <td>5</td>\n",
              "      <td>2</td>\n",
              "      <td>Rp.50.000,00</td>\n",
              "      <td>631</td>\n",
              "      <td>318</td>\n",
              "      <td>163523</td>\n",
              "      <td>0</td>\n",
              "    </tr>\n",
              "    <tr>\n",
              "      <th>6</th>\n",
              "      <td>6</td>\n",
              "      <td>3</td>\n",
              "      <td>Rp.20.000,00</td>\n",
              "      <td>15058</td>\n",
              "      <td>130910</td>\n",
              "      <td>30857</td>\n",
              "      <td>1</td>\n",
              "    </tr>\n",
              "    <tr>\n",
              "      <th>7</th>\n",
              "      <td>7</td>\n",
              "      <td>3</td>\n",
              "      <td>Rp.20.000,00</td>\n",
              "      <td>37046</td>\n",
              "      <td>139017</td>\n",
              "      <td>762</td>\n",
              "      <td>1</td>\n",
              "    </tr>\n",
              "    <tr>\n",
              "      <th>8</th>\n",
              "      <td>8</td>\n",
              "      <td>3</td>\n",
              "      <td>Rp.20.000,00</td>\n",
              "      <td>343</td>\n",
              "      <td>176207</td>\n",
              "      <td>275</td>\n",
              "      <td>0</td>\n",
              "    </tr>\n",
              "  </tbody>\n",
              "</table>\n",
              "</div>\n",
              "      <button class=\"colab-df-convert\" onclick=\"convertToInteractive('df-188f6d0d-373e-4faa-ba53-3f608e745c01')\"\n",
              "              title=\"Convert this dataframe to an interactive table.\"\n",
              "              style=\"display:none;\">\n",
              "        \n",
              "  <svg xmlns=\"http://www.w3.org/2000/svg\" height=\"24px\"viewBox=\"0 0 24 24\"\n",
              "       width=\"24px\">\n",
              "    <path d=\"M0 0h24v24H0V0z\" fill=\"none\"/>\n",
              "    <path d=\"M18.56 5.44l.94 2.06.94-2.06 2.06-.94-2.06-.94-.94-2.06-.94 2.06-2.06.94zm-11 1L8.5 8.5l.94-2.06 2.06-.94-2.06-.94L8.5 2.5l-.94 2.06-2.06.94zm10 10l.94 2.06.94-2.06 2.06-.94-2.06-.94-.94-2.06-.94 2.06-2.06.94z\"/><path d=\"M17.41 7.96l-1.37-1.37c-.4-.4-.92-.59-1.43-.59-.52 0-1.04.2-1.43.59L10.3 9.45l-7.72 7.72c-.78.78-.78 2.05 0 2.83L4 21.41c.39.39.9.59 1.41.59.51 0 1.02-.2 1.41-.59l7.78-7.78 2.81-2.81c.8-.78.8-2.07 0-2.86zM5.41 20L4 18.59l7.72-7.72 1.47 1.35L5.41 20z\"/>\n",
              "  </svg>\n",
              "      </button>\n",
              "      \n",
              "  <style>\n",
              "    .colab-df-container {\n",
              "      display:flex;\n",
              "      flex-wrap:wrap;\n",
              "      gap: 12px;\n",
              "    }\n",
              "\n",
              "    .colab-df-convert {\n",
              "      background-color: #E8F0FE;\n",
              "      border: none;\n",
              "      border-radius: 50%;\n",
              "      cursor: pointer;\n",
              "      display: none;\n",
              "      fill: #1967D2;\n",
              "      height: 32px;\n",
              "      padding: 0 0 0 0;\n",
              "      width: 32px;\n",
              "    }\n",
              "\n",
              "    .colab-df-convert:hover {\n",
              "      background-color: #E2EBFA;\n",
              "      box-shadow: 0px 1px 2px rgba(60, 64, 67, 0.3), 0px 1px 3px 1px rgba(60, 64, 67, 0.15);\n",
              "      fill: #174EA6;\n",
              "    }\n",
              "\n",
              "    [theme=dark] .colab-df-convert {\n",
              "      background-color: #3B4455;\n",
              "      fill: #D2E3FC;\n",
              "    }\n",
              "\n",
              "    [theme=dark] .colab-df-convert:hover {\n",
              "      background-color: #434B5C;\n",
              "      box-shadow: 0px 1px 3px 1px rgba(0, 0, 0, 0.15);\n",
              "      filter: drop-shadow(0px 1px 2px rgba(0, 0, 0, 0.3));\n",
              "      fill: #FFFFFF;\n",
              "    }\n",
              "  </style>\n",
              "\n",
              "      <script>\n",
              "        const buttonEl =\n",
              "          document.querySelector('#df-188f6d0d-373e-4faa-ba53-3f608e745c01 button.colab-df-convert');\n",
              "        buttonEl.style.display =\n",
              "          google.colab.kernel.accessAllowed ? 'block' : 'none';\n",
              "\n",
              "        async function convertToInteractive(key) {\n",
              "          const element = document.querySelector('#df-188f6d0d-373e-4faa-ba53-3f608e745c01');\n",
              "          const dataTable =\n",
              "            await google.colab.kernel.invokeFunction('convertToInteractive',\n",
              "                                                     [key], {});\n",
              "          if (!dataTable) return;\n",
              "\n",
              "          const docLinkHtml = 'Like what you see? Visit the ' +\n",
              "            '<a target=\"_blank\" href=https://colab.research.google.com/notebooks/data_table.ipynb>data table notebook</a>'\n",
              "            + ' to learn more about interactive tables.';\n",
              "          element.innerHTML = '';\n",
              "          dataTable['output_type'] = 'display_data';\n",
              "          await google.colab.output.renderOutput(dataTable, element);\n",
              "          const docLink = document.createElement('div');\n",
              "          docLink.innerHTML = docLinkHtml;\n",
              "          element.appendChild(docLink);\n",
              "        }\n",
              "      </script>\n",
              "    </div>\n",
              "  </div>\n",
              "  "
            ]
          },
          "metadata": {},
          "execution_count": 102
        }
      ]
    },
    {
      "cell_type": "code",
      "source": [
        "lookup_fruit_name = dict(zip(uang.lable.unique(), uang.nama.unique()))   \n",
        "print(lookup_fruit_name)\n"
      ],
      "metadata": {
        "colab": {
          "base_uri": "https://localhost:8080/",
          "height": 34
        },
        "id": "ynjtoN-92D34",
        "outputId": "4b4a8043-4b6f-4453-d0a1-58a659bb3f18"
      },
      "execution_count": null,
      "outputs": [
        {
          "output_type": "stream",
          "name": "stdout",
          "text": [
            "{1: 'Rp.100.000,00', 2: 'Rp.50.000,00', 3: 'Rp.20.000,00'}\n"
          ]
        }
      ]
    },
    {
      "cell_type": "code",
      "source": [
        "# Pada kasus ini explanatory variablenya adalah mass, width dan height sedangkan target variablenya adalah fruit_label\n",
        "X = uang[['red', 'gren', 'blue']]\n",
        "y = uang['lable']\n",
        "\n",
        "\n",
        "# kita akan mensplit menjadi 80% train data and 20% test data \n",
        "X_train, X_test, y_train, y_test = train_test_split(X, y, test_size = 0.2, random_state=0)\n"
      ],
      "metadata": {
        "id": "vlUIwNna2Xwb"
      },
      "execution_count": null,
      "outputs": []
    },
    {
      "cell_type": "code",
      "source": [
        "# Chek dimensi array dari massing masing variable\n",
        "print('X_train = ', X_train.shape)\n",
        "print('X_test = ', X_test.shape)\n",
        "print('y_train = ', y_train.shape)\n",
        "print('y_test = ', y_test.shape)"
      ],
      "metadata": {
        "colab": {
          "base_uri": "https://localhost:8080/",
          "height": 86
        },
        "id": "mNy8bY_73Rgn",
        "outputId": "2ee95043-c5e3-468d-d7a2-4664b14a54ed"
      },
      "execution_count": null,
      "outputs": [
        {
          "output_type": "stream",
          "name": "stdout",
          "text": [
            "X_train =  (7, 3)\n",
            "X_test =  (2, 3)\n",
            "y_train =  (7,)\n",
            "y_test =  (2,)\n"
          ]
        }
      ]
    },
    {
      "cell_type": "code",
      "source": [
        "X_train.head(6)"
      ],
      "metadata": {
        "colab": {
          "base_uri": "https://localhost:8080/",
          "height": 237
        },
        "id": "kkiw2Nm13VRf",
        "outputId": "e0b334ff-f434-48a3-8f7a-a05f6b04f4e8"
      },
      "execution_count": null,
      "outputs": [
        {
          "output_type": "execute_result",
          "data": {
            "text/plain": [
              "      red    gren    blue\n",
              "1  150211     306    2137\n",
              "4    3757    4081  156634\n",
              "8     343  176207     275\n",
              "6   15058  130910   30857\n",
              "3    3757    4081  156634\n",
              "0  146741    2979    2934"
            ],
            "text/html": [
              "\n",
              "  <div id=\"df-44f42ac0-bbb5-4336-ae50-7436411ff8ac\">\n",
              "    <div class=\"colab-df-container\">\n",
              "      <div>\n",
              "<style scoped>\n",
              "    .dataframe tbody tr th:only-of-type {\n",
              "        vertical-align: middle;\n",
              "    }\n",
              "\n",
              "    .dataframe tbody tr th {\n",
              "        vertical-align: top;\n",
              "    }\n",
              "\n",
              "    .dataframe thead th {\n",
              "        text-align: right;\n",
              "    }\n",
              "</style>\n",
              "<table border=\"1\" class=\"dataframe\">\n",
              "  <thead>\n",
              "    <tr style=\"text-align: right;\">\n",
              "      <th></th>\n",
              "      <th>red</th>\n",
              "      <th>gren</th>\n",
              "      <th>blue</th>\n",
              "    </tr>\n",
              "  </thead>\n",
              "  <tbody>\n",
              "    <tr>\n",
              "      <th>1</th>\n",
              "      <td>150211</td>\n",
              "      <td>306</td>\n",
              "      <td>2137</td>\n",
              "    </tr>\n",
              "    <tr>\n",
              "      <th>4</th>\n",
              "      <td>3757</td>\n",
              "      <td>4081</td>\n",
              "      <td>156634</td>\n",
              "    </tr>\n",
              "    <tr>\n",
              "      <th>8</th>\n",
              "      <td>343</td>\n",
              "      <td>176207</td>\n",
              "      <td>275</td>\n",
              "    </tr>\n",
              "    <tr>\n",
              "      <th>6</th>\n",
              "      <td>15058</td>\n",
              "      <td>130910</td>\n",
              "      <td>30857</td>\n",
              "    </tr>\n",
              "    <tr>\n",
              "      <th>3</th>\n",
              "      <td>3757</td>\n",
              "      <td>4081</td>\n",
              "      <td>156634</td>\n",
              "    </tr>\n",
              "    <tr>\n",
              "      <th>0</th>\n",
              "      <td>146741</td>\n",
              "      <td>2979</td>\n",
              "      <td>2934</td>\n",
              "    </tr>\n",
              "  </tbody>\n",
              "</table>\n",
              "</div>\n",
              "      <button class=\"colab-df-convert\" onclick=\"convertToInteractive('df-44f42ac0-bbb5-4336-ae50-7436411ff8ac')\"\n",
              "              title=\"Convert this dataframe to an interactive table.\"\n",
              "              style=\"display:none;\">\n",
              "        \n",
              "  <svg xmlns=\"http://www.w3.org/2000/svg\" height=\"24px\"viewBox=\"0 0 24 24\"\n",
              "       width=\"24px\">\n",
              "    <path d=\"M0 0h24v24H0V0z\" fill=\"none\"/>\n",
              "    <path d=\"M18.56 5.44l.94 2.06.94-2.06 2.06-.94-2.06-.94-.94-2.06-.94 2.06-2.06.94zm-11 1L8.5 8.5l.94-2.06 2.06-.94-2.06-.94L8.5 2.5l-.94 2.06-2.06.94zm10 10l.94 2.06.94-2.06 2.06-.94-2.06-.94-.94-2.06-.94 2.06-2.06.94z\"/><path d=\"M17.41 7.96l-1.37-1.37c-.4-.4-.92-.59-1.43-.59-.52 0-1.04.2-1.43.59L10.3 9.45l-7.72 7.72c-.78.78-.78 2.05 0 2.83L4 21.41c.39.39.9.59 1.41.59.51 0 1.02-.2 1.41-.59l7.78-7.78 2.81-2.81c.8-.78.8-2.07 0-2.86zM5.41 20L4 18.59l7.72-7.72 1.47 1.35L5.41 20z\"/>\n",
              "  </svg>\n",
              "      </button>\n",
              "      \n",
              "  <style>\n",
              "    .colab-df-container {\n",
              "      display:flex;\n",
              "      flex-wrap:wrap;\n",
              "      gap: 12px;\n",
              "    }\n",
              "\n",
              "    .colab-df-convert {\n",
              "      background-color: #E8F0FE;\n",
              "      border: none;\n",
              "      border-radius: 50%;\n",
              "      cursor: pointer;\n",
              "      display: none;\n",
              "      fill: #1967D2;\n",
              "      height: 32px;\n",
              "      padding: 0 0 0 0;\n",
              "      width: 32px;\n",
              "    }\n",
              "\n",
              "    .colab-df-convert:hover {\n",
              "      background-color: #E2EBFA;\n",
              "      box-shadow: 0px 1px 2px rgba(60, 64, 67, 0.3), 0px 1px 3px 1px rgba(60, 64, 67, 0.15);\n",
              "      fill: #174EA6;\n",
              "    }\n",
              "\n",
              "    [theme=dark] .colab-df-convert {\n",
              "      background-color: #3B4455;\n",
              "      fill: #D2E3FC;\n",
              "    }\n",
              "\n",
              "    [theme=dark] .colab-df-convert:hover {\n",
              "      background-color: #434B5C;\n",
              "      box-shadow: 0px 1px 3px 1px rgba(0, 0, 0, 0.15);\n",
              "      filter: drop-shadow(0px 1px 2px rgba(0, 0, 0, 0.3));\n",
              "      fill: #FFFFFF;\n",
              "    }\n",
              "  </style>\n",
              "\n",
              "      <script>\n",
              "        const buttonEl =\n",
              "          document.querySelector('#df-44f42ac0-bbb5-4336-ae50-7436411ff8ac button.colab-df-convert');\n",
              "        buttonEl.style.display =\n",
              "          google.colab.kernel.accessAllowed ? 'block' : 'none';\n",
              "\n",
              "        async function convertToInteractive(key) {\n",
              "          const element = document.querySelector('#df-44f42ac0-bbb5-4336-ae50-7436411ff8ac');\n",
              "          const dataTable =\n",
              "            await google.colab.kernel.invokeFunction('convertToInteractive',\n",
              "                                                     [key], {});\n",
              "          if (!dataTable) return;\n",
              "\n",
              "          const docLinkHtml = 'Like what you see? Visit the ' +\n",
              "            '<a target=\"_blank\" href=https://colab.research.google.com/notebooks/data_table.ipynb>data table notebook</a>'\n",
              "            + ' to learn more about interactive tables.';\n",
              "          element.innerHTML = '';\n",
              "          dataTable['output_type'] = 'display_data';\n",
              "          await google.colab.output.renderOutput(dataTable, element);\n",
              "          const docLink = document.createElement('div');\n",
              "          docLink.innerHTML = docLinkHtml;\n",
              "          element.appendChild(docLink);\n",
              "        }\n",
              "      </script>\n",
              "    </div>\n",
              "  </div>\n",
              "  "
            ]
          },
          "metadata": {},
          "execution_count": 128
        }
      ]
    },
    {
      "cell_type": "code",
      "source": [
        "y_train.head()"
      ],
      "metadata": {
        "colab": {
          "base_uri": "https://localhost:8080/",
          "height": 121
        },
        "id": "VTfXmMIg3Zb9",
        "outputId": "6a8f5d42-a5af-431d-9d2e-218529f7dcf5"
      },
      "execution_count": null,
      "outputs": [
        {
          "output_type": "execute_result",
          "data": {
            "text/plain": [
              "1    1\n",
              "4    2\n",
              "8    3\n",
              "6    3\n",
              "3    2\n",
              "Name: lable, dtype: int64"
            ]
          },
          "metadata": {},
          "execution_count": 129
        }
      ]
    },
    {
      "cell_type": "code",
      "source": [
        "knn = KNeighborsClassifier(n_neighbors = 3)\n",
        "\n",
        "# Train the classifier using train data\n",
        "knn.fit(X_train, y_train)"
      ],
      "metadata": {
        "colab": {
          "base_uri": "https://localhost:8080/",
          "height": 34
        },
        "id": "M_ZXgQw73cIl",
        "outputId": "55435b71-59cd-4357-be51-2939ee77545f"
      },
      "execution_count": null,
      "outputs": [
        {
          "output_type": "execute_result",
          "data": {
            "text/plain": [
              "KNeighborsClassifier(n_neighbors=3)"
            ]
          },
          "metadata": {},
          "execution_count": 134
        }
      ]
    },
    {
      "cell_type": "code",
      "source": [
        "knn.score(X_test, y_test)\n"
      ],
      "metadata": {
        "colab": {
          "base_uri": "https://localhost:8080/",
          "height": 34
        },
        "id": "sby3MFqu3xpY",
        "outputId": "3510bd4e-8832-4a38-a7bf-5782e3620917"
      },
      "execution_count": null,
      "outputs": [
        {
          "output_type": "execute_result",
          "data": {
            "text/plain": [
              "1.0"
            ]
          },
          "metadata": {},
          "execution_count": 135
        }
      ]
    },
    {
      "cell_type": "code",
      "source": [
        "img = cv2.imread('20new.jpg')\n",
        "\n",
        "#split gambar berfungsi untuk memisahkan chanel warna gambar\n",
        "B, G, R = cv2.split(img)\n",
        "\n",
        "# (152, 203, 3) = (tinggi, lebar, channel gambar)\n",
        "pix=img.shape\n",
        "print(pix) \n",
        "tot_pixel = pix[0] * pix[1]\n",
        "\n",
        "#memisahkan panjang pixel tiap warna\n",
        "channel_blue = pix[0]\n",
        "channel_green = pix[0]\n",
        "channel_red = pix[0]\n",
        "\n",
        "hist_B = np.zeros((256))  # buat histogram untuk B\n",
        "hist_G = np.zeros((256))  # buat histogram untuk G\n",
        "hist_R = np.zeros((256))  # buat histogram untuk R\n",
        "\n",
        "for i in range(pix[0]):\n",
        "  for j in range(pix[1]):\n",
        "    \n",
        "        pixel0 = B[i][j]\n",
        "        hist_B[pixel0] += 1\n",
        "\n",
        "        pixel1 = G[i][j]\n",
        "        hist_G[pixel1] += 1\n",
        "\n",
        "        pixel2 = R[i][j]\n",
        "        hist_R[pixel2] += 1\n",
        "\n",
        "        if pixel0 > pixel1 and pixel0 > pixel2:\n",
        "            channel_blue += 1\n",
        "        elif pixel1 > pixel0 and pixel1 > pixel2:\n",
        "            channel_green += 1\n",
        "\n",
        "        else:\n",
        "            channel_red += 1\n",
        "\n",
        "plt.bar(range(len(hist_R)), hist_R, color=[1, 0, 0])\n",
        "plt.bar(range(len(hist_G)), hist_G, color=[0, 1, 0])\n",
        "plt.bar(range(len(hist_B)), hist_B, color=[0, 0, 1])\n",
        "\n",
        "import pandas as pd\n",
        "print(\"Total Pixel Biru : \", channel_blue)\n",
        "print(\"Total Pixel Hijau : \", channel_green)\n",
        "print(\"Total Pixel Merah : \", channel_red)\n"
      ],
      "metadata": {
        "colab": {
          "base_uri": "https://localhost:8080/",
          "height": 86
        },
        "id": "Td3h2kc7HUGu",
        "outputId": "8681696e-aa1c-44eb-ffb6-22e20b5f9ad3"
      },
      "execution_count": null,
      "outputs": [
        {
          "output_type": "stream",
          "name": "stdout",
          "text": [
            "(275, 640, 3)\n",
            "Total Pixel Biru :  30857\n",
            "Total Pixel Hijau :  130910\n",
            "Total Pixel Merah :  15058\n"
          ]
        }
      ]
    },
    {
      "cell_type": "code",
      "source": [
        "# prediksi buah dengan mass 30gram, lebar 6cm and height 5 cm\n",
        "fruit_prediction = knn.predict([[channel_red,channel_green, channel_blue]])\n",
        "lookup_fruit_name[fruit_prediction[0]]"
      ],
      "metadata": {
        "colab": {
          "base_uri": "https://localhost:8080/",
          "height": 90
        },
        "id": "PzBwRs-y8TMC",
        "outputId": "711df75d-4e1f-4642-917a-b253a1d0f573"
      },
      "execution_count": null,
      "outputs": [
        {
          "output_type": "stream",
          "name": "stderr",
          "text": [
            "/usr/local/lib/python3.8/dist-packages/sklearn/base.py:450: UserWarning: X does not have valid feature names, but KNeighborsClassifier was fitted with feature names\n",
            "  warnings.warn(\n"
          ]
        },
        {
          "output_type": "execute_result",
          "data": {
            "text/plain": [
              "'Rp.20.000,00'"
            ],
            "application/vnd.google.colaboratory.intrinsic+json": {
              "type": "string"
            }
          },
          "metadata": {},
          "execution_count": 145
        }
      ]
    },
    {
      "cell_type": "code",
      "source": [
        "money=uang.to_numpy()\n",
        "print(money)"
      ],
      "metadata": {
        "colab": {
          "base_uri": "https://localhost:8080/"
        },
        "id": "hpgbK87Z7UNH",
        "outputId": "de9dd98b-9e6e-4152-cfb8-517e374986d4"
      },
      "execution_count": null,
      "outputs": [
        {
          "output_type": "stream",
          "name": "stdout",
          "text": [
            "[[0 1 'Rp.100.000,00' 146741 2979 2934 1]\n",
            " [1 2 'Rp.50.000,00' 3283 3923 145448 1]\n",
            " [2 3 'Rp.20.000,00' 14610 92403 45641 0]]\n"
          ]
        }
      ]
    },
    {
      "cell_type": "code",
      "source": [
        "def plot_uang_knn(X, y, n_neighbors, weights):\n",
        "    X_mat = X[[ 'gren', 'blue']].as_matrix()\n",
        "    y_mat = y.as_matrix()\n",
        "\n",
        "    # Create color maps\n",
        "    cmap_light = ListedColormap(['#FFAAAA', '#AAFFAA', '#AAAAFF','#AFAFAF'])\n",
        "    cmap_bold  = ListedColormap(['#FF0000', '#00FF00', '#0000FF','#AFAFAF'])\n",
        "\n",
        "    clf = neighbors.KNeighborsClassifier(n_neighbors, weights=weights)\n",
        "    clf.fit(X_mat, y_mat)\n",
        "\n",
        "    # Plot the decision boundary by assigning a color in the color map\n",
        "    # to each mesh point.\n",
        "    \n",
        "    mesh_step_size = .01  # step size in the mesh\n",
        "    plot_symbol_size = 50\n",
        "    \n",
        "    x_min, x_max = X_mat[:, 0].min() - 1, X_mat[:, 0].max() + 1\n",
        "    y_min, y_max = X_mat[:, 1].min() - 1, X_mat[:, 1].max() + 1\n",
        "    xx, yy = np.meshgrid(np.arange(x_min, x_max, mesh_step_size),\n",
        "                         np.arange(y_min, y_max, mesh_step_size))\n",
        "    Z = clf.predict(np.c_[xx.ravel(), yy.ravel()])\n",
        "\n",
        "    # Put the result into a color plot\n",
        "    Z = Z.reshape(xx.shape)\n",
        "    plt.figure()\n",
        "    plt.pcolormesh(xx, yy, Z, cmap=cmap_light)\n",
        "\n",
        "    # Plot training points\n",
        "    plt.scatter(X_mat[:, 0], X_mat[:, 1], s=plot_symbol_size, c=y, cmap=cmap_bold, edgecolor = 'black')\n",
        "    plt.xlim(xx.min(), xx.max())\n",
        "    plt.ylim(yy.min(), yy.max())\n",
        "\n",
        "    patch0 = mpatches.Patch(color='#FF0000', label='apple')\n",
        "    patch1 = mpatches.Patch(color='#00FF00', label='mandarin')\n",
        "    patch2 = mpatches.Patch(color='#0000FF', label='orange')\n",
        "    plt.legend(handles=[patch0, patch1, patch2])\n",
        "\n",
        "        \n",
        "    plt.xlabel('height (cm)')\n",
        "    plt.ylabel('width (cm)')\n",
        "    \n",
        "    plt.show()"
      ],
      "metadata": {
        "id": "nVNJWpC_4TOP"
      },
      "execution_count": null,
      "outputs": []
    },
    {
      "cell_type": "code",
      "source": [
        "plot_uang_knn(X_train, y_train, 2, 'uniform')"
      ],
      "metadata": {
        "colab": {
          "base_uri": "https://localhost:8080/",
          "height": 323
        },
        "id": "3wYVi-tB3p6U",
        "outputId": "5592defe-bedf-4cc2-ed07-d6fe043cc039"
      },
      "execution_count": null,
      "outputs": [
        {
          "output_type": "error",
          "ename": "AttributeError",
          "evalue": "ignored",
          "traceback": [
            "\u001b[0;31m---------------------------------------------------------------------------\u001b[0m",
            "\u001b[0;31mAttributeError\u001b[0m                            Traceback (most recent call last)",
            "\u001b[0;32m<ipython-input-98-9a1e23c8fa29>\u001b[0m in \u001b[0;36m<module>\u001b[0;34m\u001b[0m\n\u001b[0;32m----> 1\u001b[0;31m \u001b[0mplot_uang_knn\u001b[0m\u001b[0;34m(\u001b[0m\u001b[0mX_train\u001b[0m\u001b[0;34m,\u001b[0m \u001b[0my_train\u001b[0m\u001b[0;34m,\u001b[0m \u001b[0;36m2\u001b[0m\u001b[0;34m,\u001b[0m \u001b[0;34m'uniform'\u001b[0m\u001b[0;34m)\u001b[0m\u001b[0;34m\u001b[0m\u001b[0;34m\u001b[0m\u001b[0m\n\u001b[0m",
            "\u001b[0;32m<ipython-input-97-6746b31e9b1b>\u001b[0m in \u001b[0;36mplot_uang_knn\u001b[0;34m(X, y, n_neighbors, weights)\u001b[0m\n\u001b[1;32m      1\u001b[0m \u001b[0;32mdef\u001b[0m \u001b[0mplot_uang_knn\u001b[0m\u001b[0;34m(\u001b[0m\u001b[0mX\u001b[0m\u001b[0;34m,\u001b[0m \u001b[0my\u001b[0m\u001b[0;34m,\u001b[0m \u001b[0mn_neighbors\u001b[0m\u001b[0;34m,\u001b[0m \u001b[0mweights\u001b[0m\u001b[0;34m)\u001b[0m\u001b[0;34m:\u001b[0m\u001b[0;34m\u001b[0m\u001b[0;34m\u001b[0m\u001b[0m\n\u001b[0;32m----> 2\u001b[0;31m     \u001b[0mX_mat\u001b[0m \u001b[0;34m=\u001b[0m \u001b[0mX\u001b[0m\u001b[0;34m[\u001b[0m\u001b[0;34m[\u001b[0m \u001b[0;34m'gren'\u001b[0m\u001b[0;34m,\u001b[0m \u001b[0;34m'blue'\u001b[0m\u001b[0;34m]\u001b[0m\u001b[0;34m]\u001b[0m\u001b[0;34m.\u001b[0m\u001b[0mas_matrix\u001b[0m\u001b[0;34m(\u001b[0m\u001b[0;34m)\u001b[0m\u001b[0;34m\u001b[0m\u001b[0;34m\u001b[0m\u001b[0m\n\u001b[0m\u001b[1;32m      3\u001b[0m     \u001b[0my_mat\u001b[0m \u001b[0;34m=\u001b[0m \u001b[0my\u001b[0m\u001b[0;34m.\u001b[0m\u001b[0mas_matrix\u001b[0m\u001b[0;34m(\u001b[0m\u001b[0;34m)\u001b[0m\u001b[0;34m\u001b[0m\u001b[0;34m\u001b[0m\u001b[0m\n\u001b[1;32m      4\u001b[0m \u001b[0;34m\u001b[0m\u001b[0m\n\u001b[1;32m      5\u001b[0m     \u001b[0;31m# Create color maps\u001b[0m\u001b[0;34m\u001b[0m\u001b[0;34m\u001b[0m\u001b[0;34m\u001b[0m\u001b[0m\n",
            "\u001b[0;32m/usr/local/lib/python3.8/dist-packages/pandas/core/generic.py\u001b[0m in \u001b[0;36m__getattr__\u001b[0;34m(self, name)\u001b[0m\n\u001b[1;32m   5485\u001b[0m         ):\n\u001b[1;32m   5486\u001b[0m             \u001b[0;32mreturn\u001b[0m \u001b[0mself\u001b[0m\u001b[0;34m[\u001b[0m\u001b[0mname\u001b[0m\u001b[0;34m]\u001b[0m\u001b[0;34m\u001b[0m\u001b[0;34m\u001b[0m\u001b[0m\n\u001b[0;32m-> 5487\u001b[0;31m         \u001b[0;32mreturn\u001b[0m \u001b[0mobject\u001b[0m\u001b[0;34m.\u001b[0m\u001b[0m__getattribute__\u001b[0m\u001b[0;34m(\u001b[0m\u001b[0mself\u001b[0m\u001b[0;34m,\u001b[0m \u001b[0mname\u001b[0m\u001b[0;34m)\u001b[0m\u001b[0;34m\u001b[0m\u001b[0;34m\u001b[0m\u001b[0m\n\u001b[0m\u001b[1;32m   5488\u001b[0m \u001b[0;34m\u001b[0m\u001b[0m\n\u001b[1;32m   5489\u001b[0m     \u001b[0;32mdef\u001b[0m \u001b[0m__setattr__\u001b[0m\u001b[0;34m(\u001b[0m\u001b[0mself\u001b[0m\u001b[0;34m,\u001b[0m \u001b[0mname\u001b[0m\u001b[0;34m:\u001b[0m \u001b[0mstr\u001b[0m\u001b[0;34m,\u001b[0m \u001b[0mvalue\u001b[0m\u001b[0;34m)\u001b[0m \u001b[0;34m->\u001b[0m \u001b[0;32mNone\u001b[0m\u001b[0;34m:\u001b[0m\u001b[0;34m\u001b[0m\u001b[0;34m\u001b[0m\u001b[0m\n",
            "\u001b[0;31mAttributeError\u001b[0m: 'DataFrame' object has no attribute 'as_matrix'"
          ]
        }
      ]
    },
    {
      "cell_type": "code",
      "source": [
        "uang.info()"
      ],
      "metadata": {
        "colab": {
          "base_uri": "https://localhost:8080/"
        },
        "id": "bIuPruMlwMLv",
        "outputId": "48e49d81-5fd7-4a5d-8c31-f4be33d2aa63"
      },
      "execution_count": null,
      "outputs": [
        {
          "output_type": "stream",
          "name": "stdout",
          "text": [
            "<class 'pandas.core.frame.DataFrame'>\n",
            "RangeIndex: 3 entries, 0 to 2\n",
            "Data columns (total 7 columns):\n",
            " #   Column  Non-Null Count  Dtype \n",
            "---  ------  --------------  ----- \n",
            " 0   Index   3 non-null      int64 \n",
            " 1   lable   3 non-null      int64 \n",
            " 2   nama    3 non-null      object\n",
            " 3   red     3 non-null      int64 \n",
            " 4   gren    3 non-null      int64 \n",
            " 5   blue    3 non-null      int64 \n",
            " 6   yes/no  3 non-null      int64 \n",
            "dtypes: int64(6), object(1)\n",
            "memory usage: 296.0+ bytes\n"
          ]
        }
      ]
    },
    {
      "cell_type": "code",
      "source": [
        "knn.score(X_test, y_test)\n"
      ],
      "metadata": {
        "colab": {
          "base_uri": "https://localhost:8080/",
          "height": 323
        },
        "id": "OzJIXTA73t-Y",
        "outputId": "ede55fad-8256-443e-8c28-c538c1e931d6"
      },
      "execution_count": null,
      "outputs": [
        {
          "output_type": "error",
          "ename": "ValueError",
          "evalue": "ignored",
          "traceback": [
            "\u001b[0;31m---------------------------------------------------------------------------\u001b[0m",
            "\u001b[0;31mValueError\u001b[0m                                Traceback (most recent call last)",
            "\u001b[0;32m<ipython-input-77-5c888e60d86d>\u001b[0m in \u001b[0;36m<module>\u001b[0;34m\u001b[0m\n\u001b[0;32m----> 1\u001b[0;31m \u001b[0mknn\u001b[0m\u001b[0;34m.\u001b[0m\u001b[0mscore\u001b[0m\u001b[0;34m(\u001b[0m\u001b[0mX_test\u001b[0m\u001b[0;34m,\u001b[0m \u001b[0my_test\u001b[0m\u001b[0;34m)\u001b[0m\u001b[0;34m\u001b[0m\u001b[0;34m\u001b[0m\u001b[0m\n\u001b[0m",
            "\u001b[0;32m/usr/local/lib/python3.8/dist-packages/sklearn/base.py\u001b[0m in \u001b[0;36mscore\u001b[0;34m(self, X, y, sample_weight)\u001b[0m\n\u001b[1;32m    649\u001b[0m         \u001b[0;32mfrom\u001b[0m \u001b[0;34m.\u001b[0m\u001b[0mmetrics\u001b[0m \u001b[0;32mimport\u001b[0m \u001b[0maccuracy_score\u001b[0m\u001b[0;34m\u001b[0m\u001b[0;34m\u001b[0m\u001b[0m\n\u001b[1;32m    650\u001b[0m \u001b[0;34m\u001b[0m\u001b[0m\n\u001b[0;32m--> 651\u001b[0;31m         \u001b[0;32mreturn\u001b[0m \u001b[0maccuracy_score\u001b[0m\u001b[0;34m(\u001b[0m\u001b[0my\u001b[0m\u001b[0;34m,\u001b[0m \u001b[0mself\u001b[0m\u001b[0;34m.\u001b[0m\u001b[0mpredict\u001b[0m\u001b[0;34m(\u001b[0m\u001b[0mX\u001b[0m\u001b[0;34m)\u001b[0m\u001b[0;34m,\u001b[0m \u001b[0msample_weight\u001b[0m\u001b[0;34m=\u001b[0m\u001b[0msample_weight\u001b[0m\u001b[0;34m)\u001b[0m\u001b[0;34m\u001b[0m\u001b[0;34m\u001b[0m\u001b[0m\n\u001b[0m\u001b[1;32m    652\u001b[0m \u001b[0;34m\u001b[0m\u001b[0m\n\u001b[1;32m    653\u001b[0m     \u001b[0;32mdef\u001b[0m \u001b[0m_more_tags\u001b[0m\u001b[0;34m(\u001b[0m\u001b[0mself\u001b[0m\u001b[0;34m)\u001b[0m\u001b[0;34m:\u001b[0m\u001b[0;34m\u001b[0m\u001b[0;34m\u001b[0m\u001b[0m\n",
            "\u001b[0;32m/usr/local/lib/python3.8/dist-packages/sklearn/neighbors/_classification.py\u001b[0m in \u001b[0;36mpredict\u001b[0;34m(self, X)\u001b[0m\n\u001b[1;32m    212\u001b[0m             \u001b[0mClass\u001b[0m \u001b[0mlabels\u001b[0m \u001b[0;32mfor\u001b[0m \u001b[0meach\u001b[0m \u001b[0mdata\u001b[0m \u001b[0msample\u001b[0m\u001b[0;34m.\u001b[0m\u001b[0;34m\u001b[0m\u001b[0;34m\u001b[0m\u001b[0m\n\u001b[1;32m    213\u001b[0m         \"\"\"\n\u001b[0;32m--> 214\u001b[0;31m         \u001b[0mneigh_dist\u001b[0m\u001b[0;34m,\u001b[0m \u001b[0mneigh_ind\u001b[0m \u001b[0;34m=\u001b[0m \u001b[0mself\u001b[0m\u001b[0;34m.\u001b[0m\u001b[0mkneighbors\u001b[0m\u001b[0;34m(\u001b[0m\u001b[0mX\u001b[0m\u001b[0;34m)\u001b[0m\u001b[0;34m\u001b[0m\u001b[0;34m\u001b[0m\u001b[0m\n\u001b[0m\u001b[1;32m    215\u001b[0m         \u001b[0mclasses_\u001b[0m \u001b[0;34m=\u001b[0m \u001b[0mself\u001b[0m\u001b[0;34m.\u001b[0m\u001b[0mclasses_\u001b[0m\u001b[0;34m\u001b[0m\u001b[0;34m\u001b[0m\u001b[0m\n\u001b[1;32m    216\u001b[0m         \u001b[0m_y\u001b[0m \u001b[0;34m=\u001b[0m \u001b[0mself\u001b[0m\u001b[0;34m.\u001b[0m\u001b[0m_y\u001b[0m\u001b[0;34m\u001b[0m\u001b[0;34m\u001b[0m\u001b[0m\n",
            "\u001b[0;32m/usr/local/lib/python3.8/dist-packages/sklearn/neighbors/_base.py\u001b[0m in \u001b[0;36mkneighbors\u001b[0;34m(self, X, n_neighbors, return_distance)\u001b[0m\n\u001b[1;32m    725\u001b[0m         \u001b[0mn_samples_fit\u001b[0m \u001b[0;34m=\u001b[0m \u001b[0mself\u001b[0m\u001b[0;34m.\u001b[0m\u001b[0mn_samples_fit_\u001b[0m\u001b[0;34m\u001b[0m\u001b[0;34m\u001b[0m\u001b[0m\n\u001b[1;32m    726\u001b[0m         \u001b[0;32mif\u001b[0m \u001b[0mn_neighbors\u001b[0m \u001b[0;34m>\u001b[0m \u001b[0mn_samples_fit\u001b[0m\u001b[0;34m:\u001b[0m\u001b[0;34m\u001b[0m\u001b[0;34m\u001b[0m\u001b[0m\n\u001b[0;32m--> 727\u001b[0;31m             raise ValueError(\n\u001b[0m\u001b[1;32m    728\u001b[0m                 \u001b[0;34m\"Expected n_neighbors <= n_samples, \"\u001b[0m\u001b[0;34m\u001b[0m\u001b[0;34m\u001b[0m\u001b[0m\n\u001b[1;32m    729\u001b[0m                 \u001b[0;34m\" but n_samples = %d, n_neighbors = %d\"\u001b[0m \u001b[0;34m%\u001b[0m \u001b[0;34m(\u001b[0m\u001b[0mn_samples_fit\u001b[0m\u001b[0;34m,\u001b[0m \u001b[0mn_neighbors\u001b[0m\u001b[0;34m)\u001b[0m\u001b[0;34m\u001b[0m\u001b[0;34m\u001b[0m\u001b[0m\n",
            "\u001b[0;31mValueError\u001b[0m: Expected n_neighbors <= n_samples,  but n_samples = 2, n_neighbors = 5"
          ]
        }
      ]
    },
    {
      "cell_type": "code",
      "source": [
        "x=uang.drop(['yes/no'],axis =1)\n",
        "x.head()"
      ],
      "metadata": {
        "colab": {
          "base_uri": "https://localhost:8080/",
          "height": 143
        },
        "id": "Yyo7xEQpwaGL",
        "outputId": "a6d6ea8f-373d-44d0-dc54-d5ea87ad5048"
      },
      "execution_count": null,
      "outputs": [
        {
          "output_type": "execute_result",
          "data": {
            "text/plain": [
              "   Index  lable           nama     red   gren    blue\n",
              "0      0      1  Rp.100.000,00  146741   2979    2934\n",
              "1      1      2   Rp.50.000,00    3283   3923  145448\n",
              "2      2      3   Rp.20.000,00   14610  92403   45641"
            ],
            "text/html": [
              "\n",
              "  <div id=\"df-1ab6d5c9-2450-4d93-afcc-69f8f4cecd86\">\n",
              "    <div class=\"colab-df-container\">\n",
              "      <div>\n",
              "<style scoped>\n",
              "    .dataframe tbody tr th:only-of-type {\n",
              "        vertical-align: middle;\n",
              "    }\n",
              "\n",
              "    .dataframe tbody tr th {\n",
              "        vertical-align: top;\n",
              "    }\n",
              "\n",
              "    .dataframe thead th {\n",
              "        text-align: right;\n",
              "    }\n",
              "</style>\n",
              "<table border=\"1\" class=\"dataframe\">\n",
              "  <thead>\n",
              "    <tr style=\"text-align: right;\">\n",
              "      <th></th>\n",
              "      <th>Index</th>\n",
              "      <th>lable</th>\n",
              "      <th>nama</th>\n",
              "      <th>red</th>\n",
              "      <th>gren</th>\n",
              "      <th>blue</th>\n",
              "    </tr>\n",
              "  </thead>\n",
              "  <tbody>\n",
              "    <tr>\n",
              "      <th>0</th>\n",
              "      <td>0</td>\n",
              "      <td>1</td>\n",
              "      <td>Rp.100.000,00</td>\n",
              "      <td>146741</td>\n",
              "      <td>2979</td>\n",
              "      <td>2934</td>\n",
              "    </tr>\n",
              "    <tr>\n",
              "      <th>1</th>\n",
              "      <td>1</td>\n",
              "      <td>2</td>\n",
              "      <td>Rp.50.000,00</td>\n",
              "      <td>3283</td>\n",
              "      <td>3923</td>\n",
              "      <td>145448</td>\n",
              "    </tr>\n",
              "    <tr>\n",
              "      <th>2</th>\n",
              "      <td>2</td>\n",
              "      <td>3</td>\n",
              "      <td>Rp.20.000,00</td>\n",
              "      <td>14610</td>\n",
              "      <td>92403</td>\n",
              "      <td>45641</td>\n",
              "    </tr>\n",
              "  </tbody>\n",
              "</table>\n",
              "</div>\n",
              "      <button class=\"colab-df-convert\" onclick=\"convertToInteractive('df-1ab6d5c9-2450-4d93-afcc-69f8f4cecd86')\"\n",
              "              title=\"Convert this dataframe to an interactive table.\"\n",
              "              style=\"display:none;\">\n",
              "        \n",
              "  <svg xmlns=\"http://www.w3.org/2000/svg\" height=\"24px\"viewBox=\"0 0 24 24\"\n",
              "       width=\"24px\">\n",
              "    <path d=\"M0 0h24v24H0V0z\" fill=\"none\"/>\n",
              "    <path d=\"M18.56 5.44l.94 2.06.94-2.06 2.06-.94-2.06-.94-.94-2.06-.94 2.06-2.06.94zm-11 1L8.5 8.5l.94-2.06 2.06-.94-2.06-.94L8.5 2.5l-.94 2.06-2.06.94zm10 10l.94 2.06.94-2.06 2.06-.94-2.06-.94-.94-2.06-.94 2.06-2.06.94z\"/><path d=\"M17.41 7.96l-1.37-1.37c-.4-.4-.92-.59-1.43-.59-.52 0-1.04.2-1.43.59L10.3 9.45l-7.72 7.72c-.78.78-.78 2.05 0 2.83L4 21.41c.39.39.9.59 1.41.59.51 0 1.02-.2 1.41-.59l7.78-7.78 2.81-2.81c.8-.78.8-2.07 0-2.86zM5.41 20L4 18.59l7.72-7.72 1.47 1.35L5.41 20z\"/>\n",
              "  </svg>\n",
              "      </button>\n",
              "      \n",
              "  <style>\n",
              "    .colab-df-container {\n",
              "      display:flex;\n",
              "      flex-wrap:wrap;\n",
              "      gap: 12px;\n",
              "    }\n",
              "\n",
              "    .colab-df-convert {\n",
              "      background-color: #E8F0FE;\n",
              "      border: none;\n",
              "      border-radius: 50%;\n",
              "      cursor: pointer;\n",
              "      display: none;\n",
              "      fill: #1967D2;\n",
              "      height: 32px;\n",
              "      padding: 0 0 0 0;\n",
              "      width: 32px;\n",
              "    }\n",
              "\n",
              "    .colab-df-convert:hover {\n",
              "      background-color: #E2EBFA;\n",
              "      box-shadow: 0px 1px 2px rgba(60, 64, 67, 0.3), 0px 1px 3px 1px rgba(60, 64, 67, 0.15);\n",
              "      fill: #174EA6;\n",
              "    }\n",
              "\n",
              "    [theme=dark] .colab-df-convert {\n",
              "      background-color: #3B4455;\n",
              "      fill: #D2E3FC;\n",
              "    }\n",
              "\n",
              "    [theme=dark] .colab-df-convert:hover {\n",
              "      background-color: #434B5C;\n",
              "      box-shadow: 0px 1px 3px 1px rgba(0, 0, 0, 0.15);\n",
              "      filter: drop-shadow(0px 1px 2px rgba(0, 0, 0, 0.3));\n",
              "      fill: #FFFFFF;\n",
              "    }\n",
              "  </style>\n",
              "\n",
              "      <script>\n",
              "        const buttonEl =\n",
              "          document.querySelector('#df-1ab6d5c9-2450-4d93-afcc-69f8f4cecd86 button.colab-df-convert');\n",
              "        buttonEl.style.display =\n",
              "          google.colab.kernel.accessAllowed ? 'block' : 'none';\n",
              "\n",
              "        async function convertToInteractive(key) {\n",
              "          const element = document.querySelector('#df-1ab6d5c9-2450-4d93-afcc-69f8f4cecd86');\n",
              "          const dataTable =\n",
              "            await google.colab.kernel.invokeFunction('convertToInteractive',\n",
              "                                                     [key], {});\n",
              "          if (!dataTable) return;\n",
              "\n",
              "          const docLinkHtml = 'Like what you see? Visit the ' +\n",
              "            '<a target=\"_blank\" href=https://colab.research.google.com/notebooks/data_table.ipynb>data table notebook</a>'\n",
              "            + ' to learn more about interactive tables.';\n",
              "          element.innerHTML = '';\n",
              "          dataTable['output_type'] = 'display_data';\n",
              "          await google.colab.output.renderOutput(dataTable, element);\n",
              "          const docLink = document.createElement('div');\n",
              "          docLink.innerHTML = docLinkHtml;\n",
              "          element.appendChild(docLink);\n",
              "        }\n",
              "      </script>\n",
              "    </div>\n",
              "  </div>\n",
              "  "
            ]
          },
          "metadata": {},
          "execution_count": 54
        }
      ]
    },
    {
      "cell_type": "code",
      "source": [
        "y=uang['yes/no']\n",
        "y.head()\n"
      ],
      "metadata": {
        "colab": {
          "base_uri": "https://localhost:8080/"
        },
        "id": "dGiVpZvlzTlO",
        "outputId": "47631f7a-49e9-48bd-b5df-15db34667029"
      },
      "execution_count": null,
      "outputs": [
        {
          "output_type": "execute_result",
          "data": {
            "text/plain": [
              "0    1\n",
              "1    1\n",
              "2    0\n",
              "Name: yes/no, dtype: int64"
            ]
          },
          "metadata": {},
          "execution_count": 55
        }
      ]
    },
    {
      "cell_type": "code",
      "source": [
        "from sklearn.model_selection import train_test_split"
      ],
      "metadata": {
        "id": "C7hzD_w0zzKK"
      },
      "execution_count": null,
      "outputs": []
    },
    {
      "cell_type": "code",
      "source": [
        "x_train, x_test, y_train, y_test = train_test_split(x, y, test_size=0.20)"
      ],
      "metadata": {
        "id": "kAEcwzT8z-L-"
      },
      "execution_count": null,
      "outputs": []
    },
    {
      "cell_type": "code",
      "source": [
        "from sklearn.preprocessing import StandardScaler\n",
        "\n",
        "scaler = StandardScaler()\n",
        "scaler.fit(x_train)\n",
        "\n",
        "x_train = scaler.transform(x_train)\n",
        "x_test = scaler.transform(x_test)\n"
      ],
      "metadata": {
        "colab": {
          "base_uri": "https://localhost:8080/",
          "height": 395
        },
        "id": "lR0hUzaD0ZdK",
        "outputId": "d1c70fa7-ea3a-49f1-c32b-32c5fade554a"
      },
      "execution_count": null,
      "outputs": [
        {
          "output_type": "error",
          "ename": "ValueError",
          "evalue": "ignored",
          "traceback": [
            "\u001b[0;31m---------------------------------------------------------------------------\u001b[0m",
            "\u001b[0;31mValueError\u001b[0m                                Traceback (most recent call last)",
            "\u001b[0;32m<ipython-input-58-7d1c97b1c316>\u001b[0m in \u001b[0;36m<module>\u001b[0;34m\u001b[0m\n\u001b[1;32m      2\u001b[0m \u001b[0;34m\u001b[0m\u001b[0m\n\u001b[1;32m      3\u001b[0m \u001b[0mscaler\u001b[0m \u001b[0;34m=\u001b[0m \u001b[0mStandardScaler\u001b[0m\u001b[0;34m(\u001b[0m\u001b[0;34m)\u001b[0m\u001b[0;34m\u001b[0m\u001b[0;34m\u001b[0m\u001b[0m\n\u001b[0;32m----> 4\u001b[0;31m \u001b[0mscaler\u001b[0m\u001b[0;34m.\u001b[0m\u001b[0mfit\u001b[0m\u001b[0;34m(\u001b[0m\u001b[0mx_train\u001b[0m\u001b[0;34m)\u001b[0m\u001b[0;34m\u001b[0m\u001b[0;34m\u001b[0m\u001b[0m\n\u001b[0m\u001b[1;32m      5\u001b[0m \u001b[0;34m\u001b[0m\u001b[0m\n\u001b[1;32m      6\u001b[0m \u001b[0mx_train\u001b[0m \u001b[0;34m=\u001b[0m \u001b[0mscaler\u001b[0m\u001b[0;34m.\u001b[0m\u001b[0mtransform\u001b[0m\u001b[0;34m(\u001b[0m\u001b[0mx_train\u001b[0m\u001b[0;34m)\u001b[0m\u001b[0;34m\u001b[0m\u001b[0;34m\u001b[0m\u001b[0m\n",
            "\u001b[0;32m/usr/local/lib/python3.8/dist-packages/sklearn/preprocessing/_data.py\u001b[0m in \u001b[0;36mfit\u001b[0;34m(self, X, y, sample_weight)\u001b[0m\n\u001b[1;32m    804\u001b[0m         \u001b[0;31m# Reset internal state before fitting\u001b[0m\u001b[0;34m\u001b[0m\u001b[0;34m\u001b[0m\u001b[0;34m\u001b[0m\u001b[0m\n\u001b[1;32m    805\u001b[0m         \u001b[0mself\u001b[0m\u001b[0;34m.\u001b[0m\u001b[0m_reset\u001b[0m\u001b[0;34m(\u001b[0m\u001b[0;34m)\u001b[0m\u001b[0;34m\u001b[0m\u001b[0;34m\u001b[0m\u001b[0m\n\u001b[0;32m--> 806\u001b[0;31m         \u001b[0;32mreturn\u001b[0m \u001b[0mself\u001b[0m\u001b[0;34m.\u001b[0m\u001b[0mpartial_fit\u001b[0m\u001b[0;34m(\u001b[0m\u001b[0mX\u001b[0m\u001b[0;34m,\u001b[0m \u001b[0my\u001b[0m\u001b[0;34m,\u001b[0m \u001b[0msample_weight\u001b[0m\u001b[0;34m)\u001b[0m\u001b[0;34m\u001b[0m\u001b[0;34m\u001b[0m\u001b[0m\n\u001b[0m\u001b[1;32m    807\u001b[0m \u001b[0;34m\u001b[0m\u001b[0m\n\u001b[1;32m    808\u001b[0m     \u001b[0;32mdef\u001b[0m \u001b[0mpartial_fit\u001b[0m\u001b[0;34m(\u001b[0m\u001b[0mself\u001b[0m\u001b[0;34m,\u001b[0m \u001b[0mX\u001b[0m\u001b[0;34m,\u001b[0m \u001b[0my\u001b[0m\u001b[0;34m=\u001b[0m\u001b[0;32mNone\u001b[0m\u001b[0;34m,\u001b[0m \u001b[0msample_weight\u001b[0m\u001b[0;34m=\u001b[0m\u001b[0;32mNone\u001b[0m\u001b[0;34m)\u001b[0m\u001b[0;34m:\u001b[0m\u001b[0;34m\u001b[0m\u001b[0;34m\u001b[0m\u001b[0m\n",
            "\u001b[0;32m/usr/local/lib/python3.8/dist-packages/sklearn/preprocessing/_data.py\u001b[0m in \u001b[0;36mpartial_fit\u001b[0;34m(self, X, y, sample_weight)\u001b[0m\n\u001b[1;32m    839\u001b[0m         \"\"\"\n\u001b[1;32m    840\u001b[0m         \u001b[0mfirst_call\u001b[0m \u001b[0;34m=\u001b[0m \u001b[0;32mnot\u001b[0m \u001b[0mhasattr\u001b[0m\u001b[0;34m(\u001b[0m\u001b[0mself\u001b[0m\u001b[0;34m,\u001b[0m \u001b[0;34m\"n_samples_seen_\"\u001b[0m\u001b[0;34m)\u001b[0m\u001b[0;34m\u001b[0m\u001b[0;34m\u001b[0m\u001b[0m\n\u001b[0;32m--> 841\u001b[0;31m         X = self._validate_data(\n\u001b[0m\u001b[1;32m    842\u001b[0m             \u001b[0mX\u001b[0m\u001b[0;34m,\u001b[0m\u001b[0;34m\u001b[0m\u001b[0;34m\u001b[0m\u001b[0m\n\u001b[1;32m    843\u001b[0m             \u001b[0maccept_sparse\u001b[0m\u001b[0;34m=\u001b[0m\u001b[0;34m(\u001b[0m\u001b[0;34m\"csr\"\u001b[0m\u001b[0;34m,\u001b[0m \u001b[0;34m\"csc\"\u001b[0m\u001b[0;34m)\u001b[0m\u001b[0;34m,\u001b[0m\u001b[0;34m\u001b[0m\u001b[0;34m\u001b[0m\u001b[0m\n",
            "\u001b[0;32m/usr/local/lib/python3.8/dist-packages/sklearn/base.py\u001b[0m in \u001b[0;36m_validate_data\u001b[0;34m(self, X, y, reset, validate_separately, **check_params)\u001b[0m\n\u001b[1;32m    564\u001b[0m             \u001b[0;32mraise\u001b[0m \u001b[0mValueError\u001b[0m\u001b[0;34m(\u001b[0m\u001b[0;34m\"Validation should be done on X, y or both.\"\u001b[0m\u001b[0;34m)\u001b[0m\u001b[0;34m\u001b[0m\u001b[0;34m\u001b[0m\u001b[0m\n\u001b[1;32m    565\u001b[0m         \u001b[0;32melif\u001b[0m \u001b[0;32mnot\u001b[0m \u001b[0mno_val_X\u001b[0m \u001b[0;32mand\u001b[0m \u001b[0mno_val_y\u001b[0m\u001b[0;34m:\u001b[0m\u001b[0;34m\u001b[0m\u001b[0;34m\u001b[0m\u001b[0m\n\u001b[0;32m--> 566\u001b[0;31m             \u001b[0mX\u001b[0m \u001b[0;34m=\u001b[0m \u001b[0mcheck_array\u001b[0m\u001b[0;34m(\u001b[0m\u001b[0mX\u001b[0m\u001b[0;34m,\u001b[0m \u001b[0;34m**\u001b[0m\u001b[0mcheck_params\u001b[0m\u001b[0;34m)\u001b[0m\u001b[0;34m\u001b[0m\u001b[0;34m\u001b[0m\u001b[0m\n\u001b[0m\u001b[1;32m    567\u001b[0m             \u001b[0mout\u001b[0m \u001b[0;34m=\u001b[0m \u001b[0mX\u001b[0m\u001b[0;34m\u001b[0m\u001b[0;34m\u001b[0m\u001b[0m\n\u001b[1;32m    568\u001b[0m         \u001b[0;32melif\u001b[0m \u001b[0mno_val_X\u001b[0m \u001b[0;32mand\u001b[0m \u001b[0;32mnot\u001b[0m \u001b[0mno_val_y\u001b[0m\u001b[0;34m:\u001b[0m\u001b[0;34m\u001b[0m\u001b[0;34m\u001b[0m\u001b[0m\n",
            "\u001b[0;32m/usr/local/lib/python3.8/dist-packages/sklearn/utils/validation.py\u001b[0m in \u001b[0;36mcheck_array\u001b[0;34m(array, accept_sparse, accept_large_sparse, dtype, order, copy, force_all_finite, ensure_2d, allow_nd, ensure_min_samples, ensure_min_features, estimator)\u001b[0m\n\u001b[1;32m    744\u001b[0m                     \u001b[0marray\u001b[0m \u001b[0;34m=\u001b[0m \u001b[0marray\u001b[0m\u001b[0;34m.\u001b[0m\u001b[0mastype\u001b[0m\u001b[0;34m(\u001b[0m\u001b[0mdtype\u001b[0m\u001b[0;34m,\u001b[0m \u001b[0mcasting\u001b[0m\u001b[0;34m=\u001b[0m\u001b[0;34m\"unsafe\"\u001b[0m\u001b[0;34m,\u001b[0m \u001b[0mcopy\u001b[0m\u001b[0;34m=\u001b[0m\u001b[0;32mFalse\u001b[0m\u001b[0;34m)\u001b[0m\u001b[0;34m\u001b[0m\u001b[0;34m\u001b[0m\u001b[0m\n\u001b[1;32m    745\u001b[0m                 \u001b[0;32melse\u001b[0m\u001b[0;34m:\u001b[0m\u001b[0;34m\u001b[0m\u001b[0;34m\u001b[0m\u001b[0m\n\u001b[0;32m--> 746\u001b[0;31m                     \u001b[0marray\u001b[0m \u001b[0;34m=\u001b[0m \u001b[0mnp\u001b[0m\u001b[0;34m.\u001b[0m\u001b[0masarray\u001b[0m\u001b[0;34m(\u001b[0m\u001b[0marray\u001b[0m\u001b[0;34m,\u001b[0m \u001b[0morder\u001b[0m\u001b[0;34m=\u001b[0m\u001b[0morder\u001b[0m\u001b[0;34m,\u001b[0m \u001b[0mdtype\u001b[0m\u001b[0;34m=\u001b[0m\u001b[0mdtype\u001b[0m\u001b[0;34m)\u001b[0m\u001b[0;34m\u001b[0m\u001b[0;34m\u001b[0m\u001b[0m\n\u001b[0m\u001b[1;32m    747\u001b[0m             \u001b[0;32mexcept\u001b[0m \u001b[0mComplexWarning\u001b[0m \u001b[0;32mas\u001b[0m \u001b[0mcomplex_warning\u001b[0m\u001b[0;34m:\u001b[0m\u001b[0;34m\u001b[0m\u001b[0;34m\u001b[0m\u001b[0m\n\u001b[1;32m    748\u001b[0m                 raise ValueError(\n",
            "\u001b[0;32m/usr/local/lib/python3.8/dist-packages/pandas/core/generic.py\u001b[0m in \u001b[0;36m__array__\u001b[0;34m(self, dtype)\u001b[0m\n\u001b[1;32m   1991\u001b[0m \u001b[0;34m\u001b[0m\u001b[0m\n\u001b[1;32m   1992\u001b[0m     \u001b[0;32mdef\u001b[0m \u001b[0m__array__\u001b[0m\u001b[0;34m(\u001b[0m\u001b[0mself\u001b[0m\u001b[0;34m,\u001b[0m \u001b[0mdtype\u001b[0m\u001b[0;34m:\u001b[0m \u001b[0mNpDtype\u001b[0m \u001b[0;34m|\u001b[0m \u001b[0;32mNone\u001b[0m \u001b[0;34m=\u001b[0m \u001b[0;32mNone\u001b[0m\u001b[0;34m)\u001b[0m \u001b[0;34m->\u001b[0m \u001b[0mnp\u001b[0m\u001b[0;34m.\u001b[0m\u001b[0mndarray\u001b[0m\u001b[0;34m:\u001b[0m\u001b[0;34m\u001b[0m\u001b[0;34m\u001b[0m\u001b[0m\n\u001b[0;32m-> 1993\u001b[0;31m         \u001b[0;32mreturn\u001b[0m \u001b[0mnp\u001b[0m\u001b[0;34m.\u001b[0m\u001b[0masarray\u001b[0m\u001b[0;34m(\u001b[0m\u001b[0mself\u001b[0m\u001b[0;34m.\u001b[0m\u001b[0m_values\u001b[0m\u001b[0;34m,\u001b[0m \u001b[0mdtype\u001b[0m\u001b[0;34m=\u001b[0m\u001b[0mdtype\u001b[0m\u001b[0;34m)\u001b[0m\u001b[0;34m\u001b[0m\u001b[0;34m\u001b[0m\u001b[0m\n\u001b[0m\u001b[1;32m   1994\u001b[0m \u001b[0;34m\u001b[0m\u001b[0m\n\u001b[1;32m   1995\u001b[0m     def __array_wrap__(\n",
            "\u001b[0;31mValueError\u001b[0m: could not convert string to float: 'Rp.20.000,00'"
          ]
        }
      ]
    },
    {
      "cell_type": "code",
      "source": [
        "import pandas as pd\n",
        "import numpy as np\n",
        "import matplotlib.pyplot as plt\n",
        "import seaborn as sns\n",
        "from sklearn.model_selection import train_test_split\n",
        "\n",
        "from sklearn.neighbors import KNeighborsClassifier\n",
        "from sklearn.metrics import accuracy_score\n",
        "from sklearn.model_selection import cross_val_score\n",
        "from collections import Counter\n",
        "\n",
        "from sklearn.datasets import load_iris\n",
        "\n",
        "type(arr)\n",
        "arr.info()"
      ],
      "metadata": {
        "colab": {
          "base_uri": "https://localhost:8080/",
          "height": 207
        },
        "id": "HQ-rqLNdNMJa",
        "outputId": "882c874f-1e97-4e50-a959-0d750d30592f"
      },
      "execution_count": null,
      "outputs": [
        {
          "output_type": "error",
          "ename": "AttributeError",
          "evalue": "ignored",
          "traceback": [
            "\u001b[0;31m---------------------------------------------------------------------------\u001b[0m",
            "\u001b[0;31mAttributeError\u001b[0m                            Traceback (most recent call last)",
            "\u001b[0;32m<ipython-input-32-5ea3532fc9c8>\u001b[0m in \u001b[0;36m<module>\u001b[0;34m\u001b[0m\n\u001b[1;32m     13\u001b[0m \u001b[0;34m\u001b[0m\u001b[0m\n\u001b[1;32m     14\u001b[0m \u001b[0mtype\u001b[0m\u001b[0;34m(\u001b[0m\u001b[0marr\u001b[0m\u001b[0;34m)\u001b[0m\u001b[0;34m\u001b[0m\u001b[0;34m\u001b[0m\u001b[0m\n\u001b[0;32m---> 15\u001b[0;31m \u001b[0marr\u001b[0m\u001b[0;34m.\u001b[0m\u001b[0minfo\u001b[0m\u001b[0;34m(\u001b[0m\u001b[0;34m)\u001b[0m\u001b[0;34m\u001b[0m\u001b[0;34m\u001b[0m\u001b[0m\n\u001b[0m",
            "\u001b[0;31mAttributeError\u001b[0m: 'numpy.ndarray' object has no attribute 'info'"
          ]
        }
      ]
    },
    {
      "cell_type": "code",
      "source": [
        "type(arr.data)"
      ],
      "metadata": {
        "colab": {
          "base_uri": "https://localhost:8080/"
        },
        "id": "7oMBx8odNeo9",
        "outputId": "a3ce6e0e-9dbb-4d0e-c45d-b56e8d84776d"
      },
      "execution_count": null,
      "outputs": [
        {
          "output_type": "execute_result",
          "data": {
            "text/plain": [
              "memoryview"
            ]
          },
          "metadata": {},
          "execution_count": 33
        }
      ]
    },
    {
      "cell_type": "code",
      "source": [
        "## membuat dict key pair value  antara fruit_label dengan fruit_name\n",
        "lookup_fruit_name = list(zip(arr.lable.unique(), arr.nama.unique()))   \n",
        "print(lookup_fruit_name)\n",
        "\n"
      ],
      "metadata": {
        "colab": {
          "base_uri": "https://localhost:8080/",
          "height": 226
        },
        "id": "ylOGCb7NNxPP",
        "outputId": "d1dcdfe3-26f3-4ffe-d08d-25e3be5f3b58"
      },
      "execution_count": null,
      "outputs": [
        {
          "output_type": "error",
          "ename": "AttributeError",
          "evalue": "ignored",
          "traceback": [
            "\u001b[0;31m---------------------------------------------------------------------------\u001b[0m",
            "\u001b[0;31mAttributeError\u001b[0m                            Traceback (most recent call last)",
            "\u001b[0;32m<ipython-input-90-357c3551267e>\u001b[0m in \u001b[0;36m<module>\u001b[0;34m\u001b[0m\n\u001b[1;32m      1\u001b[0m \u001b[0;31m## membuat dict key pair value  antara fruit_label dengan fruit_name\u001b[0m\u001b[0;34m\u001b[0m\u001b[0;34m\u001b[0m\u001b[0;34m\u001b[0m\u001b[0m\n\u001b[0;32m----> 2\u001b[0;31m \u001b[0mlookup_fruit_name\u001b[0m \u001b[0;34m=\u001b[0m \u001b[0mlist\u001b[0m\u001b[0;34m(\u001b[0m\u001b[0mzip\u001b[0m\u001b[0;34m(\u001b[0m\u001b[0marr\u001b[0m\u001b[0;34m.\u001b[0m\u001b[0mlable\u001b[0m\u001b[0;34m.\u001b[0m\u001b[0munique\u001b[0m\u001b[0;34m(\u001b[0m\u001b[0;34m)\u001b[0m\u001b[0;34m,\u001b[0m \u001b[0marr\u001b[0m\u001b[0;34m.\u001b[0m\u001b[0mnama\u001b[0m\u001b[0;34m.\u001b[0m\u001b[0munique\u001b[0m\u001b[0;34m(\u001b[0m\u001b[0;34m)\u001b[0m\u001b[0;34m)\u001b[0m\u001b[0;34m)\u001b[0m\u001b[0;34m\u001b[0m\u001b[0;34m\u001b[0m\u001b[0m\n\u001b[0m\u001b[1;32m      3\u001b[0m \u001b[0mprint\u001b[0m\u001b[0;34m(\u001b[0m\u001b[0mlookup_fruit_name\u001b[0m\u001b[0;34m)\u001b[0m\u001b[0;34m\u001b[0m\u001b[0;34m\u001b[0m\u001b[0m\n\u001b[1;32m      4\u001b[0m \u001b[0;34m\u001b[0m\u001b[0m\n",
            "\u001b[0;31mAttributeError\u001b[0m: 'numpy.ndarray' object has no attribute 'lable'"
          ]
        }
      ]
    },
    {
      "cell_type": "code",
      "source": [
        "np.where(arr == \"146741\")\n"
      ],
      "metadata": {
        "colab": {
          "base_uri": "https://localhost:8080/"
        },
        "id": "oCid-6K2Wx0F",
        "outputId": "647e20d9-bbe4-4096-f202-c33f99204694"
      },
      "execution_count": null,
      "outputs": [
        {
          "output_type": "execute_result",
          "data": {
            "text/plain": [
              "(array([0]), array([2]))"
            ]
          },
          "metadata": {},
          "execution_count": 99
        }
      ]
    },
    {
      "cell_type": "code",
      "source": [
        "image = cv2.imread('uang50.jpg')\n",
        "\n",
        "#split gambar berfungsi untuk memisahkan chanel warna gambar\n",
        "B, G, R = cv2.split(image)\n",
        "# (152, 203, 3) = (tinggi, lebar, channel gambar)\n",
        "pix=img.shape\n",
        "print(pix) \n",
        "tot_pixel = pix[0] * pix[1]\n",
        "\n",
        "#memisahkan panjang pixel tiap warna\n",
        "channel_blue = pix[0]\n",
        "channel_green = pix[0]\n",
        "channel_red = pix[0]\n",
        "\n",
        "hist_B = np.zeros((256))  # buat histogram untuk B\n",
        "hist_G = np.zeros((256))  # buat histogram untuk G\n",
        "hist_R = np.zeros((256))  # buat histogram untuk R\n",
        "\n",
        "for i in range(pix[0]):\n",
        "  for j in range(pix[1]):\n",
        "    \n",
        "        pixel0 = B[i][j]\n",
        "        hist_B[pixel0] += 1\n",
        "\n",
        "        pixel1 = G[i][j]\n",
        "        hist_G[pixel1] += 1\n",
        "\n",
        "        pixel2 = R[i][j]\n",
        "        hist_R[pixel2] += 1\n",
        "\n",
        "        if pixel0 > pixel1 and pixel0 > pixel2:\n",
        "            channel_blue += 1\n",
        "        elif pixel1 > pixel0 and pixel1 > pixel2:\n",
        "            channel_green += 1\n",
        "\n",
        "        else:\n",
        "            channel_red += 1\n",
        "\n",
        "plt.bar(range(len(hist_R)), hist_R, color=[1, 0, 0])\n",
        "plt.bar(range(len(hist_G)), hist_G, color=[0, 1, 0])\n",
        "plt.bar(range(len(hist_B)), hist_B, color=[0, 0, 1])\n",
        "\n",
        "import pandas as pd\n",
        "print(\"Total Pixel Biru : \", channel_blue)\n",
        "print(\"Total Pixel Hijau : \", channel_green)\n",
        "print(\"Total Pixel Merah : \", channel_red)\n",
        "\n",
        "warna_50=[\"2\",\"Rp.50.000,00\",channel_red,channel_green,channel_blue]\n",
        "red=warna_50[0]\n",
        "green=warna_50[1]\n",
        "blue=warna_50[2]\n",
        "print(warna_50)"
      ],
      "metadata": {
        "colab": {
          "base_uri": "https://localhost:8080/",
          "height": 244
        },
        "id": "4DA5ALm0J4Nv",
        "outputId": "3ba56d80-f93e-4df3-9752-fe5fabf0e216"
      },
      "execution_count": null,
      "outputs": [
        {
          "output_type": "error",
          "ename": "ValueError",
          "evalue": "ignored",
          "traceback": [
            "\u001b[0;31m---------------------------------------------------------------------------\u001b[0m",
            "\u001b[0;31mValueError\u001b[0m                                Traceback (most recent call last)",
            "\u001b[0;32m<ipython-input-19-8260a7084df6>\u001b[0m in \u001b[0;36m<module>\u001b[0;34m\u001b[0m\n\u001b[1;32m      2\u001b[0m \u001b[0;34m\u001b[0m\u001b[0m\n\u001b[1;32m      3\u001b[0m \u001b[0;31m#split gambar berfungsi untuk memisahkan chanel warna gambar\u001b[0m\u001b[0;34m\u001b[0m\u001b[0;34m\u001b[0m\u001b[0;34m\u001b[0m\u001b[0m\n\u001b[0;32m----> 4\u001b[0;31m \u001b[0mB\u001b[0m\u001b[0;34m,\u001b[0m \u001b[0mG\u001b[0m\u001b[0;34m,\u001b[0m \u001b[0mR\u001b[0m \u001b[0;34m=\u001b[0m \u001b[0mcv2\u001b[0m\u001b[0;34m.\u001b[0m\u001b[0msplit\u001b[0m\u001b[0;34m(\u001b[0m\u001b[0mimage\u001b[0m\u001b[0;34m)\u001b[0m\u001b[0;34m\u001b[0m\u001b[0;34m\u001b[0m\u001b[0m\n\u001b[0m\u001b[1;32m      5\u001b[0m \u001b[0;31m# (152, 203, 3) = (tinggi, lebar, channel gambar)\u001b[0m\u001b[0;34m\u001b[0m\u001b[0;34m\u001b[0m\u001b[0;34m\u001b[0m\u001b[0m\n\u001b[1;32m      6\u001b[0m \u001b[0mpix\u001b[0m\u001b[0;34m=\u001b[0m\u001b[0mimg\u001b[0m\u001b[0;34m.\u001b[0m\u001b[0mshape\u001b[0m\u001b[0;34m\u001b[0m\u001b[0;34m\u001b[0m\u001b[0m\n",
            "\u001b[0;31mValueError\u001b[0m: not enough values to unpack (expected 3, got 0)"
          ]
        }
      ]
    },
    {
      "cell_type": "code",
      "source": [
        "# import the necessary packages\n",
        "from sklearn.neighbors import KNeighborsClassifier\n",
        "from sklearn.preprocessing import LabelEncoder\n",
        "from sklearn.model_selection import train_test_split\n",
        "from sklearn.metrics import classification_report\n",
        "from pyimagesearch.preprocessing import SimplePreprocessor\n",
        "from pyimagesearch.datasets import SimpleDatasetLoader\n",
        "from imutils import paths\n",
        "import argparse\n",
        "\n",
        "# construct the argument parse and parse the arguments\n",
        "ap = argparse.ArgumentParser()\n",
        "ap.add_argument(\"-d\", \"--dataset\", required=True, \n",
        "    help=\"path to input dataset\")\n",
        "ap.add_argument(\"-k\", \"--neighbors\", type=int, default=1, \n",
        "    help=\"# of nearest neighbors for classification\")\n",
        "ap.add_argument(\"-j\", \"--jobs\", type=int, default=-1, \n",
        "    help=\"# of jobs for k-NN distance (-1 uses all available cores)\")\n",
        "args = vars(ap.parse_args())\n",
        "\n",
        "# grab the list of images that we'll be describing\n",
        "# grabs the file paths to all images in our dataset.\n",
        "print(\"[INFO] loading images...\")\n",
        "imagePaths = list(paths.list_images(args[\"dataset\"]))\n",
        "\n",
        "# initialize the image preprocessor, load the dataset from disk,\n",
        "# and reshape the data matrix\n",
        "sp = SimplePreprocessor(32, 32)\n",
        "sdl = SimpleDatasetLoader(preprocessors=[sp])\n",
        "(data, labels) = sdl.load(imagePaths, verbose=500)\n",
        "data = data.reshape((data.shape[0], 3072))\n",
        "\n",
        "# show some information on memory consumption of the images\n",
        "print(\"[INFO] features matrix: {:.1f}MB\".format( \n",
        "    data.nbytes / (1024 * 1000.0)))\n",
        "\n",
        "# encode the labels as integers\n",
        "le = LabelEncoder()\n",
        "labels = le.fit_transform(labels)\n",
        "\n",
        "# partition the data into training and testing splits using 75% of\n",
        "# the data for training and the remaining 25% for testing\n",
        "(trainX, testX, trainY, testY) = train_test_split(data, labels, \n",
        "    test_size=0.25, random_state=42)\n",
        "\n",
        "# train and evaluate a k-NN classifier on the raw pixel intensities\n",
        "print(\"[INFO] evaluating k-NN classifier...\")\n",
        "model = KNeighborsClassifier(n_neighbors=args[\"neighbors\"], \n",
        "    n_jobs=args[\"jobs\"])\n",
        "model.fit(trainX, trainY)\n",
        "\n",
        "print(classification_report(testY, model.predict(testX), \n",
        "    target_names=le.classes_)"
      ],
      "metadata": {
        "colab": {
          "base_uri": "https://localhost:8080/",
          "height": 131
        },
        "id": "lyyt-OFIQhqC",
        "outputId": "e0b833c0-3a4f-4d9c-dca7-a7691bcd5fa1"
      },
      "execution_count": null,
      "outputs": [
        {
          "output_type": "error",
          "ename": "SyntaxError",
          "evalue": "ignored",
          "traceback": [
            "\u001b[0;36m  File \u001b[0;32m\"<ipython-input-1-5cd4425e9181>\"\u001b[0;36m, line \u001b[0;32m53\u001b[0m\n\u001b[0;31m    target_names=le.classes_)\u001b[0m\n\u001b[0m                             ^\u001b[0m\n\u001b[0;31mSyntaxError\u001b[0m\u001b[0;31m:\u001b[0m unexpected EOF while parsing\n"
          ]
        }
      ]
    }
  ]
}